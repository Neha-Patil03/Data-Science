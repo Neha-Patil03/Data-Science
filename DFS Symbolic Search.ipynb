{
 "cells": [
  {
   "cell_type": "code",
   "execution_count": 4,
   "id": "98a30d9c-4d61-4651-bed1-e35d6a521d2d",
   "metadata": {},
   "outputs": [],
   "source": [
    "def DFS(graph,start,visited=None):\n",
    "    if visited is None:\n",
    "        visited=set()\n",
    "        visited.add(start)\n",
    "    print(start)\n",
    "    for node in graph[start]:\n",
    "        if node not in visited:\n",
    "            DFS(graph,node,visited)"
   ]
  },
  {
   "cell_type": "code",
   "execution_count": 5,
   "id": "592a5a9c-5245-4009-8959-0200db534ced",
   "metadata": {},
   "outputs": [],
   "source": [
    "graph = {\n",
    "    \"A\":[\"B\",\"C\"],\n",
    "    \"B\":[\"D\",\"E\"],\n",
    "    \"C\":[\"F\"],\n",
    "    \"D\":[],\n",
    "    \"E\":[],\n",
    "    \"F\":[]\n",
    "}"
   ]
  },
  {
   "cell_type": "code",
   "execution_count": 6,
   "id": "93e246b9-c8f2-41ae-a0ba-3847cc493eae",
   "metadata": {},
   "outputs": [
    {
     "name": "stdout",
     "output_type": "stream",
     "text": [
      "A\n",
      "B\n",
      "D\n",
      "E\n",
      "C\n",
      "F\n"
     ]
    }
   ],
   "source": [
    "DFS(graph,\"A\")"
   ]
  },
  {
   "cell_type": "code",
   "execution_count": 8,
   "id": "8310dab7-3ec9-4c43-a6b9-e80bfa6d1c08",
   "metadata": {},
   "outputs": [],
   "source": [
    "g1={\n",
    "    \"A\":[\"B\",\"C\"],\n",
    "    \"B\":[\"D\",\"E\",\"F\"],\n",
    "    \"C\":[\"G\",\"H\",\"I\",\"J\"],\n",
    "    \"D\":[\"K\",\"L\"],\n",
    "    \"E\":[\"M\"],\n",
    "    \"F\":[\"N\",\"O\"],\n",
    "    \"G\":[\"P\",\"Q\"],\n",
    "    \"H\":[\"R\"],\n",
    "    \"I\":[\"S\",\"T\"],\n",
    "    \"J\":[\"U\"],\n",
    "    \"K\":[],\"L\":[],\"M\":[],\n",
    "    \"N\":[\"V\"],\n",
    "    \"O\":[],\"P\":[],\n",
    "    \"Q\":[\"W\",\"X\"],\n",
    "    \"R\":[],\"S\":[],\"T\":[],\"U\":[],\"V\":[],\"W\":[],\"X\":[]\n",
    "}"
   ]
  },
  {
   "cell_type": "code",
   "execution_count": 12,
   "id": "a9b52ef0-c08c-4c09-ac8b-830805960123",
   "metadata": {},
   "outputs": [
    {
     "name": "stdout",
     "output_type": "stream",
     "text": [
      "A\n",
      "B\n",
      "D\n",
      "K\n",
      "L\n",
      "E\n",
      "M\n",
      "F\n",
      "N\n",
      "V\n",
      "O\n",
      "C\n",
      "G\n",
      "P\n",
      "Q\n",
      "W\n",
      "X\n",
      "H\n",
      "R\n",
      "I\n",
      "S\n",
      "T\n",
      "J\n",
      "U\n"
     ]
    }
   ],
   "source": [
    "DFS(g1,\"A\")"
   ]
  },
  {
   "cell_type": "code",
   "execution_count": null,
   "id": "86486d80-456c-4bbc-b00a-daa4b24b7b9f",
   "metadata": {},
   "outputs": [],
   "source": []
  }
 ],
 "metadata": {
  "kernelspec": {
   "display_name": "Python 3 (ipykernel)",
   "language": "python",
   "name": "python3"
  },
  "language_info": {
   "codemirror_mode": {
    "name": "ipython",
    "version": 3
   },
   "file_extension": ".py",
   "mimetype": "text/x-python",
   "name": "python",
   "nbconvert_exporter": "python",
   "pygments_lexer": "ipython3",
   "version": "3.12.3"
  }
 },
 "nbformat": 4,
 "nbformat_minor": 5
}
