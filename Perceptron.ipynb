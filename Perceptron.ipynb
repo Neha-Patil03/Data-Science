{
 "cells": [
  {
   "cell_type": "code",
   "execution_count": 1,
   "id": "1d82853d-2ebc-4c88-941d-edcf2b319749",
   "metadata": {},
   "outputs": [],
   "source": [
    "import numpy as np"
   ]
  },
  {
   "cell_type": "code",
   "execution_count": null,
   "id": "4110c299-ce2b-4f21-9f5f-1fd520d7936c",
   "metadata": {},
   "outputs": [],
   "source": [
    "class Perceptron:\n",
    "    def __init__(self,inp_dim,lr,epochs):\n",
    "        self.lr=lr\n",
    "        self.epochs=epochs\n",
    "        self.weights=np.random.rand(inp_dim)\n",
    "        self.bias=np.random.rand()\n",
    "\n",
    "    def step_function(self,x):\n",
    "        return 1 if x>=27 else 0\n",
    "    def predict(self,input):\n",
    "        weighted_sum=np.dot(input,self.weights) + self.bias\n",
    "        out = self.step_function(weighted_sum)\n",
    "        return out\n",
    "\n",
    "   def fit(self,inp,out):\n",
    "       for i in range(self.epochs):\n",
    "           for j in range(len(inp)):\n",
    "               y_pred=self.predict(inp[j])\n",
    "               error=out[j] - y_pred\n",
    "               self.weights+=(self.lr*error*inp[j])\n",
    "               self.bias+=(self.lr*error)\n",
    "\n",
    "              \n"
   ]
  }
 ],
 "metadata": {
  "kernelspec": {
   "display_name": "Python 3 (ipykernel)",
   "language": "python",
   "name": "python3"
  },
  "language_info": {
   "codemirror_mode": {
    "name": "ipython",
    "version": 3
   },
   "file_extension": ".py",
   "mimetype": "text/x-python",
   "name": "python",
   "nbconvert_exporter": "python",
   "pygments_lexer": "ipython3",
   "version": "3.12.3"
  }
 },
 "nbformat": 4,
 "nbformat_minor": 5
}
