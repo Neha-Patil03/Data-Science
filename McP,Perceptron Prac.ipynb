{
 "cells": [
  {
   "cell_type": "code",
   "execution_count": 1,
   "id": "fecef197-6725-49ab-98d9-b94027998fb5",
   "metadata": {},
   "outputs": [],
   "source": [
    "import numpy as np"
   ]
  },
  {
   "cell_type": "code",
   "execution_count": 2,
   "id": "53142fbd-0332-4c28-9599-9619d382a9d9",
   "metadata": {},
   "outputs": [],
   "source": [
    "inp_data = np.array([[0,0],[0,1],[1,0],[1,1]])\n",
    "out_data_AND = np.array([0,0,0,1])"
   ]
  },
  {
   "cell_type": "code",
   "execution_count": 3,
   "id": "4a6d8edc-3b6b-41d5-a2d5-0c1e61529162",
   "metadata": {},
   "outputs": [],
   "source": [
    "step_function_AND = lambda x:1 if x>=1.5 else 0"
   ]
  },
  {
   "cell_type": "code",
   "execution_count": 4,
   "id": "feaa0ab1-5d70-4dd5-b593-658efe92aca4",
   "metadata": {},
   "outputs": [
    {
     "data": {
      "text/plain": [
       "array([0, 0, 0, 1])"
      ]
     },
     "execution_count": 4,
     "metadata": {},
     "output_type": "execute_result"
    }
   ],
   "source": [
    "pred_AND = np.array(list(map(lambda i:step_function_AND(np.sum(i)),inp_data)))\n",
    "pred_AND"
   ]
  },
  {
   "cell_type": "code",
   "execution_count": 5,
   "id": "c728db99-8ba2-4472-89c2-b03b0012e46e",
   "metadata": {},
   "outputs": [],
   "source": [
    "inp_data = np.array([[0,0],[0,1],[1,0],[1,1]])\n",
    "out_data_OR = np.array([0,1,1,1])"
   ]
  },
  {
   "cell_type": "code",
   "execution_count": 6,
   "id": "6a929957-f910-490f-9524-36abeadcb67f",
   "metadata": {},
   "outputs": [],
   "source": [
    "step_function_OR = lambda x:1 if x>=0.5 else 0"
   ]
  },
  {
   "cell_type": "code",
   "execution_count": 7,
   "id": "deb01437-453b-4e46-b1a1-9994a0d1c763",
   "metadata": {},
   "outputs": [
    {
     "data": {
      "text/plain": [
       "array([0, 1, 1, 1])"
      ]
     },
     "execution_count": 7,
     "metadata": {},
     "output_type": "execute_result"
    }
   ],
   "source": [
    "pred_OR = np.array(list(map(lambda i:step_function_OR(np.sum(i)),inp_data)))\n",
    "pred_OR"
   ]
  },
  {
   "cell_type": "code",
   "execution_count": 8,
   "id": "d95eeecf-56d9-4dba-a1ae-a29e775fe240",
   "metadata": {},
   "outputs": [],
   "source": [
    "class Perceptron:\n",
    "    def __init__(self,inp_dim,lr,epochs):\n",
    "        self.lr=lr\n",
    "        self.epochs=epochs\n",
    "        self.weights=np.random.rand(inp_dim)\n",
    "        self.bias=np.random.rand()\n",
    "    def step_function(self,x):\n",
    "        return 1 if x>=27 else 0\n",
    "    def predict(self,input):\n",
    "        weighted_sum=np.dot(input,self.weights)+self.bias\n",
    "        out=self.step_function(weighted_sum)\n",
    "        return out\n",
    "    def fit(self,inp,out):\n",
    "        for i in range(self.epochs):\n",
    "            for j in range(len(inp)):\n",
    "                y_pred=self.predict(inp[j])\n",
    "                error=out[j]-y_pred\n",
    "                self.weights+=(self.lr*error*inp[j])\n",
    "                self.bias+=(self.lr*error)"
   ]
  },
  {
   "cell_type": "code",
   "execution_count": 9,
   "id": "fc5a9a54-da44-4577-90e6-bc32cff374a0",
   "metadata": {},
   "outputs": [],
   "source": [
    "inp_data = np.array([[0,0],[0,1],[1,0],[1,1]])\n",
    "out_AND = np.array([0,0,0,1])"
   ]
  },
  {
   "cell_type": "code",
   "execution_count": 11,
   "id": "2d26c5d8-9c98-4638-8c99-87c7686da659",
   "metadata": {},
   "outputs": [],
   "source": [
    "perceptron_AND=Perceptron(inp_dim=2,epochs=500,lr=0.1)"
   ]
  },
  {
   "cell_type": "code",
   "execution_count": 14,
   "id": "07e27065-3594-43f5-a929-14c3c6d9cca9",
   "metadata": {},
   "outputs": [
    {
     "name": "stdout",
     "output_type": "stream",
     "text": [
      "[0 0]:---0\n",
      "[0 1]:---0\n",
      "[1 0]:---0\n",
      "[1 1]:---1\n"
     ]
    }
   ],
   "source": [
    "perceptron_AND.fit(inp_data,out_AND)\n",
    "for i in inp_data:\n",
    "    print(f\"{i}:---{perceptron_AND.predict(i)}\")"
   ]
  },
  {
   "cell_type": "code",
   "execution_count": 15,
   "id": "f19f77a9-068e-4d4c-bcbb-1808f333baaf",
   "metadata": {},
   "outputs": [],
   "source": [
    "inp_data = np.array([[0,0],[0,1],[1,0],[1,1]])\n",
    "out_OR = np.array([0,1,1,1])"
   ]
  },
  {
   "cell_type": "code",
   "execution_count": 16,
   "id": "6a85c430-9c4b-43c2-a39d-6a29440e543a",
   "metadata": {},
   "outputs": [],
   "source": [
    "perceptron_OR=Perceptron(inp_dim=2,epochs=500,lr=0.1)"
   ]
  },
  {
   "cell_type": "code",
   "execution_count": 17,
   "id": "44ea6010-8395-4f43-b519-7b3546a00858",
   "metadata": {},
   "outputs": [
    {
     "name": "stdout",
     "output_type": "stream",
     "text": [
      "[0 0]:---0\n",
      "[0 1]:---1\n",
      "[1 0]:---1\n",
      "[1 1]:---1\n"
     ]
    }
   ],
   "source": [
    "perceptron_OR.fit(inp_data,out_OR)\n",
    "for i in inp_data:\n",
    "    print(f\"{i}:---{perceptron_OR.predict(i)}\")"
   ]
  },
  {
   "cell_type": "code",
   "execution_count": 18,
   "id": "f14d7f97-4d61-4fa1-86a4-f5961dace840",
   "metadata": {},
   "outputs": [
    {
     "data": {
      "text/plain": [
       "array([9.47104073, 9.04175912])"
      ]
     },
     "execution_count": 18,
     "metadata": {},
     "output_type": "execute_result"
    }
   ],
   "source": [
    "perceptron_AND.weights"
   ]
  },
  {
   "cell_type": "code",
   "execution_count": 19,
   "id": "d1048b1c-ea10-4349-b517-8818fce063a7",
   "metadata": {},
   "outputs": [
    {
     "data": {
      "text/plain": [
       "8.630053736933311"
      ]
     },
     "execution_count": 19,
     "metadata": {},
     "output_type": "execute_result"
    }
   ],
   "source": [
    "perceptron_AND.bias"
   ]
  },
  {
   "cell_type": "code",
   "execution_count": 20,
   "id": "8f944578-fff2-4c48-ba1d-4ce17460b5a3",
   "metadata": {},
   "outputs": [
    {
     "data": {
      "text/plain": [
       "array([10.66230903, 10.52567743])"
      ]
     },
     "execution_count": 20,
     "metadata": {},
     "output_type": "execute_result"
    }
   ],
   "source": [
    "perceptron_OR.weights"
   ]
  },
  {
   "cell_type": "code",
   "execution_count": 21,
   "id": "f1b8e12a-db47-492a-823c-fcd3d0db4894",
   "metadata": {},
   "outputs": [
    {
     "data": {
      "text/plain": [
       "16.59871565078408"
      ]
     },
     "execution_count": 21,
     "metadata": {},
     "output_type": "execute_result"
    }
   ],
   "source": [
    "perceptron_OR.bias"
   ]
  },
  {
   "cell_type": "code",
   "execution_count": 22,
   "id": "9e4351c9-9cc7-4405-9ae5-440c99c0036e",
   "metadata": {},
   "outputs": [],
   "source": [
    "inp_data = np.array([[0,0],[0,1],[1,0],[1,1]])\n",
    "out_XOR = np.array([0,1,1,0])"
   ]
  },
  {
   "cell_type": "code",
   "execution_count": 23,
   "id": "e5977b7f-c954-4d3b-a866-f893e7350bae",
   "metadata": {},
   "outputs": [],
   "source": [
    "perceptron_XOR=Perceptron(inp_dim=2,lr=0.3,epochs=500)"
   ]
  },
  {
   "cell_type": "code",
   "execution_count": 24,
   "id": "9f69e28d-a968-4785-a143-71963e86a59b",
   "metadata": {},
   "outputs": [
    {
     "name": "stdout",
     "output_type": "stream",
     "text": [
      "[0 0]:---perceptron_XOR.predict[0 0]\n",
      "[0 1]:---perceptron_XOR.predict[0 1]\n",
      "[1 0]:---perceptron_XOR.predict[1 0]\n",
      "[1 1]:---perceptron_XOR.predict[1 1]\n"
     ]
    }
   ],
   "source": [
    "perceptron_XOR.fit(inp_data,out_XOR)\n",
    "for i in inp_data:\n",
    "    print(f\"{i}:---perceptron_XOR.predict{i}\")\n"
   ]
  },
  {
   "cell_type": "code",
   "execution_count": null,
   "id": "4a4b77b1-3bcc-4d95-a200-f51c9da170a3",
   "metadata": {},
   "outputs": [],
   "source": []
  }
 ],
 "metadata": {
  "kernelspec": {
   "display_name": "Python 3 (ipykernel)",
   "language": "python",
   "name": "python3"
  },
  "language_info": {
   "codemirror_mode": {
    "name": "ipython",
    "version": 3
   },
   "file_extension": ".py",
   "mimetype": "text/x-python",
   "name": "python",
   "nbconvert_exporter": "python",
   "pygments_lexer": "ipython3",
   "version": "3.12.3"
  }
 },
 "nbformat": 4,
 "nbformat_minor": 5
}
