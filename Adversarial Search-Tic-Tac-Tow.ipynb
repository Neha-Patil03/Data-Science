{
 "cells": [
  {
   "cell_type": "code",
   "execution_count": 33,
   "id": "cf3294b6-3692-4fc5-98cc-e7b194dc98a6",
   "metadata": {},
   "outputs": [
    {
     "data": {
      "text/plain": [
       "[[' ', ' ', ' '], [' ', ' ', ' '], [' ', ' ', ' ']]"
      ]
     },
     "execution_count": 33,
     "metadata": {},
     "output_type": "execute_result"
    }
   ],
   "source": [
    "board = [[\" \" for i in range(3)] for j in range(3)]\n",
    "board"
   ]
  },
  {
   "cell_type": "code",
   "execution_count": 34,
   "id": "1073679d-e93d-40a0-9853-24471d6a963b",
   "metadata": {},
   "outputs": [],
   "source": [
    "def print_board(board):\n",
    "    for row in board:\n",
    "        print(\" | \".join(row))\n",
    "        print(\"-\"*9)"
   ]
  },
  {
   "cell_type": "code",
   "execution_count": 35,
   "id": "8231c3bb-2f10-4c56-9748-0c4600158274",
   "metadata": {},
   "outputs": [
    {
     "name": "stdout",
     "output_type": "stream",
     "text": [
      "  |   |  \n",
      "---------\n",
      "  |   |  \n",
      "---------\n",
      "  |   |  \n",
      "---------\n"
     ]
    }
   ],
   "source": [
    "print_board(board)"
   ]
  },
  {
   "cell_type": "code",
   "execution_count": 36,
   "id": "88aa18cf-94cf-47c7-aef7-7bbf16fd85ba",
   "metadata": {},
   "outputs": [],
   "source": [
    "def is_winner(board,player):\n",
    "    for row in board:\n",
    "        if all(cell==player for cell in row):\n",
    "            return True\n",
    "    for col in range(3):\n",
    "        if all(row[col]==player for row in board):\n",
    "            return True\n",
    "        if all(board[i][i]==player for i in range(3)) or all(board[i][2-i]==player for i in range(3)):\n",
    "            return True\n",
    "    return False"
   ]
  },
  {
   "cell_type": "code",
   "execution_count": 37,
   "id": "dbd4f98a-99fa-414d-9797-25dc0cdf47ac",
   "metadata": {},
   "outputs": [
    {
     "data": {
      "text/plain": [
       "False"
      ]
     },
     "execution_count": 37,
     "metadata": {},
     "output_type": "execute_result"
    }
   ],
   "source": [
    "is_winner(board,\"X\")"
   ]
  },
  {
   "cell_type": "code",
   "execution_count": 38,
   "id": "4622efa7-8ba4-4bfb-b751-75214eddc769",
   "metadata": {},
   "outputs": [],
   "source": [
    "def is_board_full(board):\n",
    "    return all(cell!=\" \" for row in board for cell in row)"
   ]
  },
  {
   "cell_type": "code",
   "execution_count": 39,
   "id": "b3610a91-d939-4eb5-a0d3-fa98d40e1473",
   "metadata": {},
   "outputs": [
    {
     "data": {
      "text/plain": [
       "False"
      ]
     },
     "execution_count": 39,
     "metadata": {},
     "output_type": "execute_result"
    }
   ],
   "source": [
    "is_board_full(board)"
   ]
  },
  {
   "cell_type": "code",
   "execution_count": 40,
   "id": "0432fd20-cd90-4b09-9b3d-2c2af27408c5",
   "metadata": {},
   "outputs": [
    {
     "data": {
      "text/plain": [
       "[(0, 0), (0, 1), (0, 2), (1, 0), (1, 1), (1, 2), (2, 0), (2, 1), (2, 2)]"
      ]
     },
     "execution_count": 40,
     "metadata": {},
     "output_type": "execute_result"
    }
   ],
   "source": [
    "def get_empty_cells(board):\n",
    "    return [(i,j) for i in range(3) for j in range(3) if board[i][j]==\" \"]\n",
    "get_empty_cells(board)"
   ]
  },
  {
   "cell_type": "code",
   "execution_count": 45,
   "id": "4e2c8437-001e-4d25-91ca-913210655230",
   "metadata": {},
   "outputs": [],
   "source": [
    "def minimax(board,depth,is_maximizer):\n",
    "    if is_winner(board,\"0\"):\n",
    "        return 1\n",
    "    elif is_winner(board,\"X\"):\n",
    "        return -1\n",
    "    elif is_board_full(board):\n",
    "        return 0\n",
    "\n",
    "    if is_maximizer:\n",
    "        max_eval=float(\"-inf\")\n",
    "        for i,j in get_empty_cells(board):\n",
    "            board[i][j]=\"0\"\n",
    "            eval=minimax(board,depth+1,False)\n",
    "            board[i][j]=\" \"\n",
    "            max_eval=max(max_eval,eval)\n",
    "        return max_eval\n",
    "    else:\n",
    "        min_eval=float(\"inf\")\n",
    "        for i ,j in get_empty_cells(board):\n",
    "            board[i][j]=\"X\"\n",
    "            eval=minimax(board,depth+1,True)\n",
    "            board[i][j]=\" \"\n",
    "            min_eval=min(min_eval,eval)\n",
    "        return min_eval"
   ]
  },
  {
   "cell_type": "code",
   "execution_count": 46,
   "id": "e4f8fb05-fc6f-4899-a741-7bf6bad37805",
   "metadata": {},
   "outputs": [],
   "source": [
    "def best_move(board):\n",
    "    best_val=float(\"-inf\")\n",
    "    best_move=None\n",
    "\n",
    "    for i,j in get_empty_cells(board):\n",
    "       board[i][j]=\"0\"\n",
    "       move_val=minimax(board,0,False)\n",
    "       board[i][j]=\" \"\n",
    "\n",
    "    if move_val>best_val:\n",
    "          best_move=(i,j)\n",
    "          best_val=move_val\n",
    "    return best_move"
   ]
  },
  {
   "cell_type": "code",
   "execution_count": 49,
   "id": "b54d3461-6949-4005-9eaa-c2710332241c",
   "metadata": {},
   "outputs": [],
   "source": [
    "def main():\n",
    "    board=[[\" \" for i in range(3)] for j in range(3)]\n",
    "    \n",
    "    while True:\n",
    "        print_board(board)\n",
    "        row=int(input(\"Enter row(0,1,2)\"))\n",
    "        col=int(input(\"Enter column(0,1,2)\"))\n",
    "        if board[row][col]==\" \":\n",
    "           board[row][col]==\"X\"\n",
    "        else:\n",
    "            print(\"Already filled,Try Again with different row and column\")\n",
    "            continue\n",
    "        if is_winner(board,\"X\"):\n",
    "            print(board)\n",
    "            print(\"Congratulations,You Win!\")\n",
    "            break\n",
    "        elif is_board_full(board):\n",
    "            print_board(board)\n",
    "            print(\"Its a Tie\")\n",
    "            break\n",
    "        print(\"Its AI Move\")\n",
    "        ai_row,ai_col=best_move(board)\n",
    "        board[ai_row][ai_col]=\"0\"\n",
    "        if is_winner(board,\"0\"):\n",
    "            print(board)\n",
    "            print(\"AI Wins!\")\n",
    "            break\n",
    "        elif is_board_full(board):\n",
    "            print_board(board)\n",
    "            print(\"Its a Tie\")\n",
    "            break"
   ]
  },
  {
   "cell_type": "code",
   "execution_count": 50,
   "id": "78760fbc-2efa-423e-a2fe-c4ac5fce0dd1",
   "metadata": {},
   "outputs": [
    {
     "name": "stdout",
     "output_type": "stream",
     "text": [
      "  |   |  \n",
      "---------\n",
      "  |   |  \n",
      "---------\n",
      "  |   |  \n",
      "---------\n"
     ]
    },
    {
     "name": "stdin",
     "output_type": "stream",
     "text": [
      "Enter row(0,1,2) 1\n",
      "Enter column(0,1,2) 2\n"
     ]
    },
    {
     "name": "stdout",
     "output_type": "stream",
     "text": [
      "Its AI Move\n",
      "  |   |  \n",
      "---------\n",
      "  |   |  \n",
      "---------\n",
      "  |   | 0\n",
      "---------\n"
     ]
    },
    {
     "name": "stdin",
     "output_type": "stream",
     "text": [
      "Enter row(0,1,2) 1\n",
      "Enter column(0,1,2) 1\n"
     ]
    },
    {
     "name": "stdout",
     "output_type": "stream",
     "text": [
      "Its AI Move\n",
      "  |   |  \n",
      "---------\n",
      "  |   |  \n",
      "---------\n",
      "  | 0 | 0\n",
      "---------\n"
     ]
    },
    {
     "name": "stdin",
     "output_type": "stream",
     "text": [
      "Enter row(0,1,2) 2\n",
      "Enter column(0,1,2) 0\n"
     ]
    },
    {
     "name": "stdout",
     "output_type": "stream",
     "text": [
      "Its AI Move\n",
      "[[' ', ' ', ' '], [' ', ' ', ' '], ['0', '0', '0']]\n",
      "AI Wins!\n"
     ]
    }
   ],
   "source": [
    "main()"
   ]
  },
  {
   "cell_type": "code",
   "execution_count": null,
   "id": "1edf532d-1a5b-4db1-9e5b-0a6989dcc765",
   "metadata": {},
   "outputs": [],
   "source": []
  }
 ],
 "metadata": {
  "kernelspec": {
   "display_name": "Python 3 (ipykernel)",
   "language": "python",
   "name": "python3"
  },
  "language_info": {
   "codemirror_mode": {
    "name": "ipython",
    "version": 3
   },
   "file_extension": ".py",
   "mimetype": "text/x-python",
   "name": "python",
   "nbconvert_exporter": "python",
   "pygments_lexer": "ipython3",
   "version": "3.12.3"
  }
 },
 "nbformat": 4,
 "nbformat_minor": 5
}
