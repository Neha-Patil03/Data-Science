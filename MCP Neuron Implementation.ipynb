{
 "cells": [
  {
   "cell_type": "code",
   "execution_count": 1,
   "id": "d5bcd7d7-883a-4fc4-b94c-686b9659e921",
   "metadata": {},
   "outputs": [],
   "source": [
    "import numpy as np"
   ]
  },
  {
   "cell_type": "code",
   "execution_count": 2,
   "id": "89d55ed1-d552-4fc7-a347-b844bddd0657",
   "metadata": {},
   "outputs": [],
   "source": [
    "inp_data = np.array([[0,0],[0,1],[1,0],[1,1]])\n",
    "out_data_AND = np.array([0,0,0,1])"
   ]
  },
  {
   "cell_type": "code",
   "execution_count": 4,
   "id": "0628328d-9cbb-43f3-bd5b-6d4be717a725",
   "metadata": {},
   "outputs": [],
   "source": [
    "step_function_AND = lambda x:1 if x >=1.5 else 0"
   ]
  },
  {
   "cell_type": "code",
   "execution_count": 5,
   "id": "4478aae2-f55e-4d5b-a23e-67603774393d",
   "metadata": {},
   "outputs": [],
   "source": [
    "pred_AND = np.array(list(map(lambda i:step_function_AND(np.sum(i)),inp_data)))"
   ]
  },
  {
   "cell_type": "code",
   "execution_count": 6,
   "id": "fdc9b886-1b05-462f-b4ba-77829fcfc49b",
   "metadata": {},
   "outputs": [
    {
     "data": {
      "text/plain": [
       "array([0, 0, 0, 1])"
      ]
     },
     "execution_count": 6,
     "metadata": {},
     "output_type": "execute_result"
    }
   ],
   "source": [
    "pred_AND"
   ]
  },
  {
   "cell_type": "code",
   "execution_count": 7,
   "id": "5d6014d0-2ba1-4c7e-b766-d57e67edffc5",
   "metadata": {},
   "outputs": [],
   "source": [
    "inp_data = np.array([[0,0],[0,1],[1,0],[1,1]])\n",
    "out_data_OR = np.array([0,1,1,1])"
   ]
  },
  {
   "cell_type": "code",
   "execution_count": 8,
   "id": "f76f970e-06aa-4c9e-8c9a-6d98d28b9c49",
   "metadata": {},
   "outputs": [],
   "source": [
    "step_function_OR = lambda x:1 if x >=0.5 else 0"
   ]
  },
  {
   "cell_type": "code",
   "execution_count": 9,
   "id": "895e71b6-7fd2-4069-a155-a20fa8e53c9c",
   "metadata": {},
   "outputs": [
    {
     "data": {
      "text/plain": [
       "array([0, 1, 1, 1])"
      ]
     },
     "execution_count": 9,
     "metadata": {},
     "output_type": "execute_result"
    }
   ],
   "source": [
    "pred_OR = np.array(list(map(lambda i:step_function_OR(np.sum(i)),inp_data)))\n",
    "pred_OR"
   ]
  },
  {
   "cell_type": "code",
   "execution_count": null,
   "id": "c37470f7-9556-426f-abff-aba337d16b2f",
   "metadata": {},
   "outputs": [],
   "source": []
  }
 ],
 "metadata": {
  "kernelspec": {
   "display_name": "Python 3 (ipykernel)",
   "language": "python",
   "name": "python3"
  },
  "language_info": {
   "codemirror_mode": {
    "name": "ipython",
    "version": 3
   },
   "file_extension": ".py",
   "mimetype": "text/x-python",
   "name": "python",
   "nbconvert_exporter": "python",
   "pygments_lexer": "ipython3",
   "version": "3.12.3"
  }
 },
 "nbformat": 4,
 "nbformat_minor": 5
}
