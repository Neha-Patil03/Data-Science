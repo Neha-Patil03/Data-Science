{
 "cells": [
  {
   "cell_type": "code",
   "execution_count": 1,
   "id": "0c0af86a-5d57-48af-a718-85479801cdab",
   "metadata": {},
   "outputs": [],
   "source": [
    "import numpy as np\n",
    "import tensorflow as tf\n",
    "from tensorflow.keras.preprocessing import sequence\n",
    "from tensorflow.keras.preprocessing.text import Tokenizer\n",
    "from tensorflow.keras.models import Sequential\n",
    "from tensorflow.keras.layers import Embedding,SimpleRNN,Dense"
   ]
  },
  {
   "cell_type": "code",
   "execution_count": 2,
   "id": "60a38f69-9474-4449-bf19-56a7e5e5d9f9",
   "metadata": {},
   "outputs": [],
   "source": [
    "import warnings\n",
    "warnings.filterwarnings(\"ignore\")"
   ]
  },
  {
   "cell_type": "code",
   "execution_count": 3,
   "id": "5dd1e7bd-469e-46c7-8f76-aca674e51497",
   "metadata": {},
   "outputs": [],
   "source": [
    "data = [\n",
    "(\"An exhilarating and unforgettable experience\",\"Positive\"),\n",
    "(\"A disappointing and confusing mess\",\"Negative\"),\n",
    "(\"Brilliant performances and stunning cinematography\",\"Positive\"),\n",
    "(\"A boring and uninspired film\",\"Negative\"),\n",
    "(\"A beautifully crafted story that tugs at the heartstrings\",\"Positive\"),\n",
    "(\"Terribly acted and poorly directed\",\"Negative\"),\n",
    "(\"A groundbreaking film in the sci-fi genre\",\"Positive\"),\n",
    "(\"An uninteresting plot with flat characters\",\"Negative\"),\n",
    "(\"A cinematic triumph that is not to be missed\",\"Positive\"),\n",
    "(\"A waste of time and money\",\"Negative\"),\n",
    "(\"An exceptional film that exceeds all expectations\",\"Positive\"),\n",
    "(\"A film that fails on every level\",\"Negative\"),\n",
    "(\"An overrated and underwhelming movie\",\"Negative\"),\n",
    "(\"A masterpiece of storytelling and acting\",\"Positive\"),\n",
    "(\"A predictable and dull experience\",\"Negative\"),\n",
    "(\"A tragic love story with stunning visuals\",\"Positive\"),\n",
    "(\"An exhilarating and unforgettable experience\",\"Positive\"),\n",
    "(\"A disappointing and confusing mess\",\"Negative\"),\n",
    "(\"An exceptional film that exceeds all expectations\",\"Positive\"),\n",
    "(\"A waste of time and money\",\"Negative\"),\n",
    "]"
   ]
  },
  {
   "cell_type": "code",
   "execution_count": 4,
   "id": "571772e1-027e-4f19-b233-a679d9a8c3b2",
   "metadata": {},
   "outputs": [],
   "source": [
    "reviews,sentiments = zip(*data)"
   ]
  },
  {
   "cell_type": "code",
   "execution_count": 5,
   "id": "815abe4b-f974-4c44-b69a-17a90bde93d3",
   "metadata": {},
   "outputs": [
    {
     "data": {
      "text/plain": [
       "('An exhilarating and unforgettable experience',\n",
       " 'A disappointing and confusing mess',\n",
       " 'Brilliant performances and stunning cinematography',\n",
       " 'A boring and uninspired film',\n",
       " 'A beautifully crafted story that tugs at the heartstrings',\n",
       " 'Terribly acted and poorly directed',\n",
       " 'A groundbreaking film in the sci-fi genre',\n",
       " 'An uninteresting plot with flat characters',\n",
       " 'A cinematic triumph that is not to be missed',\n",
       " 'A waste of time and money',\n",
       " 'An exceptional film that exceeds all expectations',\n",
       " 'A film that fails on every level',\n",
       " 'An overrated and underwhelming movie',\n",
       " 'A masterpiece of storytelling and acting',\n",
       " 'A predictable and dull experience',\n",
       " 'A tragic love story with stunning visuals',\n",
       " 'An exhilarating and unforgettable experience',\n",
       " 'A disappointing and confusing mess',\n",
       " 'An exceptional film that exceeds all expectations',\n",
       " 'A waste of time and money')"
      ]
     },
     "execution_count": 5,
     "metadata": {},
     "output_type": "execute_result"
    }
   ],
   "source": [
    "reviews"
   ]
  },
  {
   "cell_type": "code",
   "execution_count": 6,
   "id": "4cb1a1e6-399a-4664-9039-191d78826aa3",
   "metadata": {},
   "outputs": [
    {
     "data": {
      "text/plain": [
       "('Positive',\n",
       " 'Negative',\n",
       " 'Positive',\n",
       " 'Negative',\n",
       " 'Positive',\n",
       " 'Negative',\n",
       " 'Positive',\n",
       " 'Negative',\n",
       " 'Positive',\n",
       " 'Negative',\n",
       " 'Positive',\n",
       " 'Negative',\n",
       " 'Negative',\n",
       " 'Positive',\n",
       " 'Negative',\n",
       " 'Positive',\n",
       " 'Positive',\n",
       " 'Negative',\n",
       " 'Positive',\n",
       " 'Negative')"
      ]
     },
     "execution_count": 6,
     "metadata": {},
     "output_type": "execute_result"
    }
   ],
   "source": [
    "sentiments"
   ]
  },
  {
   "cell_type": "code",
   "execution_count": 7,
   "id": "474a1f41-e9d9-48a7-9972-ceeee5f1cc37",
   "metadata": {},
   "outputs": [],
   "source": [
    "tokenize=Tokenizer()"
   ]
  },
  {
   "cell_type": "code",
   "execution_count": 8,
   "id": "ccf9d657-298c-4222-b54d-6390b611e369",
   "metadata": {},
   "outputs": [],
   "source": [
    "tokenize.fit_on_texts(reviews)"
   ]
  },
  {
   "cell_type": "code",
   "execution_count": 9,
   "id": "c4cf894f-19ab-4582-a77f-e0c52e28c99b",
   "metadata": {},
   "outputs": [
    {
     "data": {
      "text/plain": [
       "[[3, 8, 1, 9, 6],\n",
       " [2, 10, 1, 11, 12],\n",
       " [24, 25, 1, 13, 26],\n",
       " [2, 27, 1, 28, 4],\n",
       " [2, 29, 30, 14, 5, 31, 32, 15, 33],\n",
       " [34, 35, 1, 36, 37],\n",
       " [2, 38, 4, 39, 15, 40, 41, 42],\n",
       " [3, 43, 44, 16, 45, 46],\n",
       " [2, 47, 48, 5, 49, 50, 51, 52, 53],\n",
       " [2, 17, 7, 18, 1, 19],\n",
       " [3, 20, 4, 5, 21, 22, 23],\n",
       " [2, 4, 5, 54, 55, 56, 57],\n",
       " [3, 58, 1, 59, 60],\n",
       " [2, 61, 7, 62, 1, 63],\n",
       " [2, 64, 1, 65, 6],\n",
       " [2, 66, 67, 14, 16, 13, 68],\n",
       " [3, 8, 1, 9, 6],\n",
       " [2, 10, 1, 11, 12],\n",
       " [3, 20, 4, 5, 21, 22, 23],\n",
       " [2, 17, 7, 18, 1, 19]]"
      ]
     },
     "execution_count": 9,
     "metadata": {},
     "output_type": "execute_result"
    }
   ],
   "source": [
    "seq=tokenize.texts_to_sequences(reviews)\n",
    "seq"
   ]
  },
  {
   "cell_type": "code",
   "execution_count": 10,
   "id": "0455183e-3a9a-4cac-b022-72302775a5f7",
   "metadata": {},
   "outputs": [
    {
     "data": {
      "text/plain": [
       "69"
      ]
     },
     "execution_count": 10,
     "metadata": {},
     "output_type": "execute_result"
    }
   ],
   "source": [
    "vocab_size=len(tokenize.word_index)+1\n",
    "vocab_size"
   ]
  },
  {
   "cell_type": "code",
   "execution_count": 11,
   "id": "e0c5e8f3-b17a-4841-a9de-37962178a359",
   "metadata": {},
   "outputs": [
    {
     "data": {
      "text/plain": [
       "{'and': 1,\n",
       " 'a': 2,\n",
       " 'an': 3,\n",
       " 'film': 4,\n",
       " 'that': 5,\n",
       " 'experience': 6,\n",
       " 'of': 7,\n",
       " 'exhilarating': 8,\n",
       " 'unforgettable': 9,\n",
       " 'disappointing': 10,\n",
       " 'confusing': 11,\n",
       " 'mess': 12,\n",
       " 'stunning': 13,\n",
       " 'story': 14,\n",
       " 'the': 15,\n",
       " 'with': 16,\n",
       " 'waste': 17,\n",
       " 'time': 18,\n",
       " 'money': 19,\n",
       " 'exceptional': 20,\n",
       " 'exceeds': 21,\n",
       " 'all': 22,\n",
       " 'expectations': 23,\n",
       " 'brilliant': 24,\n",
       " 'performances': 25,\n",
       " 'cinematography': 26,\n",
       " 'boring': 27,\n",
       " 'uninspired': 28,\n",
       " 'beautifully': 29,\n",
       " 'crafted': 30,\n",
       " 'tugs': 31,\n",
       " 'at': 32,\n",
       " 'heartstrings': 33,\n",
       " 'terribly': 34,\n",
       " 'acted': 35,\n",
       " 'poorly': 36,\n",
       " 'directed': 37,\n",
       " 'groundbreaking': 38,\n",
       " 'in': 39,\n",
       " 'sci': 40,\n",
       " 'fi': 41,\n",
       " 'genre': 42,\n",
       " 'uninteresting': 43,\n",
       " 'plot': 44,\n",
       " 'flat': 45,\n",
       " 'characters': 46,\n",
       " 'cinematic': 47,\n",
       " 'triumph': 48,\n",
       " 'is': 49,\n",
       " 'not': 50,\n",
       " 'to': 51,\n",
       " 'be': 52,\n",
       " 'missed': 53,\n",
       " 'fails': 54,\n",
       " 'on': 55,\n",
       " 'every': 56,\n",
       " 'level': 57,\n",
       " 'overrated': 58,\n",
       " 'underwhelming': 59,\n",
       " 'movie': 60,\n",
       " 'masterpiece': 61,\n",
       " 'storytelling': 62,\n",
       " 'acting': 63,\n",
       " 'predictable': 64,\n",
       " 'dull': 65,\n",
       " 'tragic': 66,\n",
       " 'love': 67,\n",
       " 'visuals': 68}"
      ]
     },
     "execution_count": 11,
     "metadata": {},
     "output_type": "execute_result"
    }
   ],
   "source": [
    "tokenize.word_index"
   ]
  },
  {
   "cell_type": "code",
   "execution_count": 12,
   "id": "60d4d4b3-e993-4bb4-afe8-8fdcd7c5eb17",
   "metadata": {},
   "outputs": [
    {
     "data": {
      "text/plain": [
       "9"
      ]
     },
     "execution_count": 12,
     "metadata": {},
     "output_type": "execute_result"
    }
   ],
   "source": [
    "max_length=max([len(s) for s in seq])\n",
    "max_length"
   ]
  },
  {
   "cell_type": "code",
   "execution_count": 13,
   "id": "0ca29a8a-2a53-4b38-8ec3-6c3e3b954ffc",
   "metadata": {},
   "outputs": [
    {
     "data": {
      "text/plain": [
       "array([[ 3,  8,  1,  9,  6,  0,  0,  0,  0],\n",
       "       [ 2, 10,  1, 11, 12,  0,  0,  0,  0],\n",
       "       [24, 25,  1, 13, 26,  0,  0,  0,  0],\n",
       "       [ 2, 27,  1, 28,  4,  0,  0,  0,  0],\n",
       "       [ 2, 29, 30, 14,  5, 31, 32, 15, 33],\n",
       "       [34, 35,  1, 36, 37,  0,  0,  0,  0],\n",
       "       [ 2, 38,  4, 39, 15, 40, 41, 42,  0],\n",
       "       [ 3, 43, 44, 16, 45, 46,  0,  0,  0],\n",
       "       [ 2, 47, 48,  5, 49, 50, 51, 52, 53],\n",
       "       [ 2, 17,  7, 18,  1, 19,  0,  0,  0],\n",
       "       [ 3, 20,  4,  5, 21, 22, 23,  0,  0],\n",
       "       [ 2,  4,  5, 54, 55, 56, 57,  0,  0],\n",
       "       [ 3, 58,  1, 59, 60,  0,  0,  0,  0],\n",
       "       [ 2, 61,  7, 62,  1, 63,  0,  0,  0],\n",
       "       [ 2, 64,  1, 65,  6,  0,  0,  0,  0],\n",
       "       [ 2, 66, 67, 14, 16, 13, 68,  0,  0],\n",
       "       [ 3,  8,  1,  9,  6,  0,  0,  0,  0],\n",
       "       [ 2, 10,  1, 11, 12,  0,  0,  0,  0],\n",
       "       [ 3, 20,  4,  5, 21, 22, 23,  0,  0],\n",
       "       [ 2, 17,  7, 18,  1, 19,  0,  0,  0]])"
      ]
     },
     "execution_count": 13,
     "metadata": {},
     "output_type": "execute_result"
    }
   ],
   "source": [
    "padded_seq=sequence.pad_sequences(seq,maxlen=max_length,padding=\"post\")\n",
    "padded_seq"
   ]
  },
  {
   "cell_type": "code",
   "execution_count": 14,
   "id": "02224ed3-ff6a-46a9-9b1f-1c4ca8746e6d",
   "metadata": {},
   "outputs": [
    {
     "data": {
      "text/plain": [
       "array([1, 0, 1, 0, 1, 0, 1, 0, 1, 0, 1, 0, 0, 1, 0, 1, 1, 0, 1, 0])"
      ]
     },
     "execution_count": 14,
     "metadata": {},
     "output_type": "execute_result"
    }
   ],
   "source": [
    "labels=np.array([1 if i==\"Positive\" else 0 for i in sentiments])\n",
    "labels"
   ]
  },
  {
   "cell_type": "code",
   "execution_count": 15,
   "id": "4ce6aab0-4245-47e1-8d07-c17c47fc16e1",
   "metadata": {},
   "outputs": [],
   "source": [
    "model = Sequential([\n",
    "    Embedding(vocab_size,32,input_length=max_length),\n",
    "    SimpleRNN(32),\n",
    "    Dense(1,activation=\"sigmoid\")\n",
    "])"
   ]
  },
  {
   "cell_type": "code",
   "execution_count": 16,
   "id": "0899830b-6d70-43e4-a96c-ac4a6e20d14d",
   "metadata": {},
   "outputs": [],
   "source": [
    "model.compile(optimizer=\"adam\",loss=\"binary_crossentropy\",metrics=[\"accuracy\"])"
   ]
  },
  {
   "cell_type": "code",
   "execution_count": 17,
   "id": "a7fd2397-4a1e-457c-88fa-b2efd5d722eb",
   "metadata": {},
   "outputs": [
    {
     "name": "stdout",
     "output_type": "stream",
     "text": [
      "Epoch 1/30\n",
      "\u001b[1m1/1\u001b[0m \u001b[32m━━━━━━━━━━━━━━━━━━━━\u001b[0m\u001b[37m\u001b[0m \u001b[1m2s\u001b[0m 2s/step - accuracy: 0.8000 - loss: 0.6737\n",
      "Epoch 2/30\n",
      "\u001b[1m1/1\u001b[0m \u001b[32m━━━━━━━━━━━━━━━━━━━━\u001b[0m\u001b[37m\u001b[0m \u001b[1m0s\u001b[0m 56ms/step - accuracy: 0.8000 - loss: 0.6537\n",
      "Epoch 3/30\n",
      "\u001b[1m1/1\u001b[0m \u001b[32m━━━━━━━━━━━━━━━━━━━━\u001b[0m\u001b[37m\u001b[0m \u001b[1m0s\u001b[0m 61ms/step - accuracy: 0.8500 - loss: 0.6334\n",
      "Epoch 4/30\n",
      "\u001b[1m1/1\u001b[0m \u001b[32m━━━━━━━━━━━━━━━━━━━━\u001b[0m\u001b[37m\u001b[0m \u001b[1m0s\u001b[0m 58ms/step - accuracy: 0.9000 - loss: 0.6125\n",
      "Epoch 5/30\n",
      "\u001b[1m1/1\u001b[0m \u001b[32m━━━━━━━━━━━━━━━━━━━━\u001b[0m\u001b[37m\u001b[0m \u001b[1m0s\u001b[0m 56ms/step - accuracy: 0.9500 - loss: 0.5907\n",
      "Epoch 6/30\n",
      "\u001b[1m1/1\u001b[0m \u001b[32m━━━━━━━━━━━━━━━━━━━━\u001b[0m\u001b[37m\u001b[0m \u001b[1m0s\u001b[0m 59ms/step - accuracy: 0.9500 - loss: 0.5680\n",
      "Epoch 7/30\n",
      "\u001b[1m1/1\u001b[0m \u001b[32m━━━━━━━━━━━━━━━━━━━━\u001b[0m\u001b[37m\u001b[0m \u001b[1m0s\u001b[0m 44ms/step - accuracy: 0.9500 - loss: 0.5442\n",
      "Epoch 8/30\n",
      "\u001b[1m1/1\u001b[0m \u001b[32m━━━━━━━━━━━━━━━━━━━━\u001b[0m\u001b[37m\u001b[0m \u001b[1m0s\u001b[0m 62ms/step - accuracy: 1.0000 - loss: 0.5194\n",
      "Epoch 9/30\n",
      "\u001b[1m1/1\u001b[0m \u001b[32m━━━━━━━━━━━━━━━━━━━━\u001b[0m\u001b[37m\u001b[0m \u001b[1m0s\u001b[0m 58ms/step - accuracy: 1.0000 - loss: 0.4934\n",
      "Epoch 10/30\n",
      "\u001b[1m1/1\u001b[0m \u001b[32m━━━━━━━━━━━━━━━━━━━━\u001b[0m\u001b[37m\u001b[0m \u001b[1m0s\u001b[0m 62ms/step - accuracy: 1.0000 - loss: 0.4663\n",
      "Epoch 11/30\n",
      "\u001b[1m1/1\u001b[0m \u001b[32m━━━━━━━━━━━━━━━━━━━━\u001b[0m\u001b[37m\u001b[0m \u001b[1m0s\u001b[0m 59ms/step - accuracy: 1.0000 - loss: 0.4382\n",
      "Epoch 12/30\n",
      "\u001b[1m1/1\u001b[0m \u001b[32m━━━━━━━━━━━━━━━━━━━━\u001b[0m\u001b[37m\u001b[0m \u001b[1m0s\u001b[0m 54ms/step - accuracy: 1.0000 - loss: 0.4092\n",
      "Epoch 13/30\n",
      "\u001b[1m1/1\u001b[0m \u001b[32m━━━━━━━━━━━━━━━━━━━━\u001b[0m\u001b[37m\u001b[0m \u001b[1m0s\u001b[0m 58ms/step - accuracy: 1.0000 - loss: 0.3796\n",
      "Epoch 14/30\n",
      "\u001b[1m1/1\u001b[0m \u001b[32m━━━━━━━━━━━━━━━━━━━━\u001b[0m\u001b[37m\u001b[0m \u001b[1m0s\u001b[0m 75ms/step - accuracy: 1.0000 - loss: 0.3495\n",
      "Epoch 15/30\n",
      "\u001b[1m1/1\u001b[0m \u001b[32m━━━━━━━━━━━━━━━━━━━━\u001b[0m\u001b[37m\u001b[0m \u001b[1m0s\u001b[0m 65ms/step - accuracy: 1.0000 - loss: 0.3193\n",
      "Epoch 16/30\n",
      "\u001b[1m1/1\u001b[0m \u001b[32m━━━━━━━━━━━━━━━━━━━━\u001b[0m\u001b[37m\u001b[0m \u001b[1m0s\u001b[0m 42ms/step - accuracy: 1.0000 - loss: 0.2892\n",
      "Epoch 17/30\n",
      "\u001b[1m1/1\u001b[0m \u001b[32m━━━━━━━━━━━━━━━━━━━━\u001b[0m\u001b[37m\u001b[0m \u001b[1m0s\u001b[0m 60ms/step - accuracy: 1.0000 - loss: 0.2597\n",
      "Epoch 18/30\n",
      "\u001b[1m1/1\u001b[0m \u001b[32m━━━━━━━━━━━━━━━━━━━━\u001b[0m\u001b[37m\u001b[0m \u001b[1m0s\u001b[0m 61ms/step - accuracy: 1.0000 - loss: 0.2311\n",
      "Epoch 19/30\n",
      "\u001b[1m1/1\u001b[0m \u001b[32m━━━━━━━━━━━━━━━━━━━━\u001b[0m\u001b[37m\u001b[0m \u001b[1m0s\u001b[0m 64ms/step - accuracy: 1.0000 - loss: 0.2038\n",
      "Epoch 20/30\n",
      "\u001b[1m1/1\u001b[0m \u001b[32m━━━━━━━━━━━━━━━━━━━━\u001b[0m\u001b[37m\u001b[0m \u001b[1m0s\u001b[0m 49ms/step - accuracy: 1.0000 - loss: 0.1781\n",
      "Epoch 21/30\n",
      "\u001b[1m1/1\u001b[0m \u001b[32m━━━━━━━━━━━━━━━━━━━━\u001b[0m\u001b[37m\u001b[0m \u001b[1m0s\u001b[0m 58ms/step - accuracy: 1.0000 - loss: 0.1544\n",
      "Epoch 22/30\n",
      "\u001b[1m1/1\u001b[0m \u001b[32m━━━━━━━━━━━━━━━━━━━━\u001b[0m\u001b[37m\u001b[0m \u001b[1m0s\u001b[0m 57ms/step - accuracy: 1.0000 - loss: 0.1328\n",
      "Epoch 23/30\n",
      "\u001b[1m1/1\u001b[0m \u001b[32m━━━━━━━━━━━━━━━━━━━━\u001b[0m\u001b[37m\u001b[0m \u001b[1m0s\u001b[0m 58ms/step - accuracy: 1.0000 - loss: 0.1136\n",
      "Epoch 24/30\n",
      "\u001b[1m1/1\u001b[0m \u001b[32m━━━━━━━━━━━━━━━━━━━━\u001b[0m\u001b[37m\u001b[0m \u001b[1m0s\u001b[0m 60ms/step - accuracy: 1.0000 - loss: 0.0967\n",
      "Epoch 25/30\n",
      "\u001b[1m1/1\u001b[0m \u001b[32m━━━━━━━━━━━━━━━━━━━━\u001b[0m\u001b[37m\u001b[0m \u001b[1m0s\u001b[0m 62ms/step - accuracy: 1.0000 - loss: 0.0821\n",
      "Epoch 26/30\n",
      "\u001b[1m1/1\u001b[0m \u001b[32m━━━━━━━━━━━━━━━━━━━━\u001b[0m\u001b[37m\u001b[0m \u001b[1m0s\u001b[0m 60ms/step - accuracy: 1.0000 - loss: 0.0698\n",
      "Epoch 27/30\n",
      "\u001b[1m1/1\u001b[0m \u001b[32m━━━━━━━━━━━━━━━━━━━━\u001b[0m\u001b[37m\u001b[0m \u001b[1m0s\u001b[0m 57ms/step - accuracy: 1.0000 - loss: 0.0595\n",
      "Epoch 28/30\n",
      "\u001b[1m1/1\u001b[0m \u001b[32m━━━━━━━━━━━━━━━━━━━━\u001b[0m\u001b[37m\u001b[0m \u001b[1m0s\u001b[0m 62ms/step - accuracy: 1.0000 - loss: 0.0509\n",
      "Epoch 29/30\n",
      "\u001b[1m1/1\u001b[0m \u001b[32m━━━━━━━━━━━━━━━━━━━━\u001b[0m\u001b[37m\u001b[0m \u001b[1m0s\u001b[0m 60ms/step - accuracy: 1.0000 - loss: 0.0439\n",
      "Epoch 30/30\n",
      "\u001b[1m1/1\u001b[0m \u001b[32m━━━━━━━━━━━━━━━━━━━━\u001b[0m\u001b[37m\u001b[0m \u001b[1m0s\u001b[0m 60ms/step - accuracy: 1.0000 - loss: 0.0381\n"
     ]
    },
    {
     "data": {
      "text/plain": [
       "<keras.src.callbacks.history.History at 0x2a821cb02c0>"
      ]
     },
     "execution_count": 17,
     "metadata": {},
     "output_type": "execute_result"
    }
   ],
   "source": [
    "model.fit(padded_seq,labels,epochs=30,verbose=1)"
   ]
  },
  {
   "cell_type": "code",
   "execution_count": 19,
   "id": "bc0bbfd9-9adc-4c40-bc0b-b420abab854a",
   "metadata": {},
   "outputs": [],
   "source": [
    "import matplotlib.pyplot as plt"
   ]
  },
  {
   "cell_type": "code",
   "execution_count": 20,
   "id": "30c9b2ba-6586-4de7-a62d-47455ec7c3dc",
   "metadata": {},
   "outputs": [
    {
     "data": {
      "image/png": "[encoded data removed]",
      "text/plain": [
       "<Figure size 800x500 with 1 Axes>"
      ]
     },
     "metadata": {},
     "output_type": "display_data"
    }
   ],
   "source": [
    "plt.figure(figsize=(8,5))\n",
    "plt.plot(model.history.history[\"loss\"],label=\"Training Loss\")\n",
    "plt.legend()\n",
    "plt.title(\"Loss Visualization\")\n",
    "plt.xlabel(\"Epochs\")\n",
    "plt.ylabel(\"Loss\")\n",
    "plt.show()"
   ]
  },
  {
   "cell_type": "code",
   "execution_count": 21,
   "id": "41332185-09bb-4dc6-b805-a499b3dcb7e9",
   "metadata": {},
   "outputs": [
    {
     "data": {
      "image/png": "[encoded data removed]",
      "text/plain": [
       "<Figure size 800x500 with 1 Axes>"
      ]
     },
     "metadata": {},
     "output_type": "display_data"
    }
   ],
   "source": [
    "plt.figure(figsize=(8,5))\n",
    "plt.plot(model.history.history[\"accuracy\"],label=\"Training Accuracy\")\n",
    "plt.legend()\n",
    "plt.title(\"Accuracy Visualization\")\n",
    "plt.xlabel(\"Epochs\")\n",
    "plt.ylabel(\"Accuracy\")\n",
    "plt.show()"
   ]
  },
  {
   "cell_type": "code",
   "execution_count": 22,
   "id": "a1cf8c0b-9da7-4c22-b6d7-d5448adbcf96",
   "metadata": {},
   "outputs": [],
   "source": [
    "new_sentiment = \"The cinematography was stunning,the film is masterpiece,a must-watch\""
   ]
  },
  {
   "cell_type": "code",
   "execution_count": 23,
   "id": "942fd12b-993c-4593-9cb0-8871abcc4f45",
   "metadata": {},
   "outputs": [
    {
     "data": {
      "text/plain": [
       "[[15, 26, 13, 15, 4, 49, 61, 2]]"
      ]
     },
     "execution_count": 23,
     "metadata": {},
     "output_type": "execute_result"
    }
   ],
   "source": [
    "new_seq = tokenize.texts_to_sequences([new_sentiment])\n",
    "new_seq"
   ]
  },
  {
   "cell_type": "code",
   "execution_count": 24,
   "id": "0600d106-3205-41c4-9a7e-2591d3ce2dbf",
   "metadata": {},
   "outputs": [
    {
     "data": {
      "text/plain": [
       "array([[15, 26, 13, 15,  4, 49, 61,  2,  0]])"
      ]
     },
     "execution_count": 24,
     "metadata": {},
     "output_type": "execute_result"
    }
   ],
   "source": [
    "new_padded_seq = sequence.pad_sequences(new_seq,maxlen=max_length,padding=\"post\")\n",
    "new_padded_seq"
   ]
  },
  {
   "cell_type": "code",
   "execution_count": 25,
   "id": "e346799b-6c83-418e-ae6a-ad634e4e3dcc",
   "metadata": {},
   "outputs": [
    {
     "name": "stdout",
     "output_type": "stream",
     "text": [
      "\u001b[1m1/1\u001b[0m \u001b[32m━━━━━━━━━━━━━━━━━━━━\u001b[0m\u001b[37m\u001b[0m \u001b[1m0s\u001b[0m 220ms/step\n"
     ]
    }
   ],
   "source": [
    "prediction = model.predict(new_padded_seq)"
   ]
  },
  {
   "cell_type": "code",
   "execution_count": 26,
   "id": "b4de63db-2743-42c1-b0cc-16e9b7a11cdf",
   "metadata": {},
   "outputs": [
    {
     "data": {
      "text/plain": [
       "'Positive'"
      ]
     },
     "execution_count": 26,
     "metadata": {},
     "output_type": "execute_result"
    }
   ],
   "source": [
    "sentiment = \"Positive\" if prediction>=0.5 else \"Negative\"\n",
    "sentiment"
   ]
  },
  {
   "cell_type": "code",
   "execution_count": 27,
   "id": "a947206f-33d2-49d3-b60c-640d9b5aef55",
   "metadata": {},
   "outputs": [],
   "source": [
    "def sentiment_analyzer(sentiment):\n",
    "    new_seq = tokenize.texts_to_sequences([sentiment])\n",
    "    new_padded_seq = sequence.pad_sequences(new_seq,maxlen=max_length,padding=\"post\")\n",
    "    prediction = model.predict(new_padded_seq)\n",
    "    sentiment = \"Positive\" if prediction >=0.5 else \"Negative\"\n",
    "    return sentiment"
   ]
  },
  {
   "cell_type": "code",
   "execution_count": 28,
   "id": "c9591ea4-3c02-4b3f-a7eb-babeecd3b0a3",
   "metadata": {},
   "outputs": [
    {
     "name": "stdout",
     "output_type": "stream",
     "text": [
      "\u001b[1m1/1\u001b[0m \u001b[32m━━━━━━━━━━━━━━━━━━━━\u001b[0m\u001b[37m\u001b[0m \u001b[1m0s\u001b[0m 39ms/step\n"
     ]
    },
    {
     "data": {
      "text/plain": [
       "'Negative'"
      ]
     },
     "execution_count": 28,
     "metadata": {},
     "output_type": "execute_result"
    }
   ],
   "source": [
    "sentiment_analyzer(\"I could'nt stand watching it,a complete waste of time.\")"
   ]
  },
  {
   "cell_type": "code",
   "execution_count": 29,
   "id": "82251a5a-5d39-4b33-927b-bf3f41565701",
   "metadata": {},
   "outputs": [
    {
     "name": "stdout",
     "output_type": "stream",
     "text": [
      "\u001b[1m1/1\u001b[0m \u001b[32m━━━━━━━━━━━━━━━━━━━━\u001b[0m\u001b[37m\u001b[0m \u001b[1m0s\u001b[0m 62ms/step\n"
     ]
    },
    {
     "data": {
      "text/plain": [
       "'Negative'"
      ]
     },
     "execution_count": 29,
     "metadata": {},
     "output_type": "execute_result"
    }
   ],
   "source": [
    "sentiment_analyzer(\"It was a superb movie.\")"
   ]
  },
  {
   "cell_type": "code",
   "execution_count": null,
   "id": "e50cb11c-f3bd-4ab9-943d-14fac2a7ed73",
   "metadata": {},
   "outputs": [],
   "source": []
  }
 ],
 "metadata": {
  "kernelspec": {
   "display_name": "Python 3 (ipykernel)",
   "language": "python",
   "name": "python3"
  },
  "language_info": {
   "codemirror_mode": {
    "name": "ipython",
    "version": 3
   },
   "file_extension": ".py",
   "mimetype": "text/x-python",
   "name": "python",
   "nbconvert_exporter": "python",
   "pygments_lexer": "ipython3",
   "version": "3.12.3"
  }
 },
 "nbformat": 4,
 "nbformat_minor": 5
}
