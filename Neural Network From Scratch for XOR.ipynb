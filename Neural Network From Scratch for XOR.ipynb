{
 "cells": [
  {
   "cell_type": "code",
   "execution_count": 50,
   "id": "1eb8d57b-5b8d-4f9e-b986-ac98503bc065",
   "metadata": {},
   "outputs": [],
   "source": [
    "import numpy as np"
   ]
  },
  {
   "cell_type": "code",
   "execution_count": 51,
   "id": "f7d4bc90-7d73-4755-9fa5-7d2a5a7c69ee",
   "metadata": {},
   "outputs": [],
   "source": [
    "def sigmoid(x):\n",
    "    return 1/(1+np.exp(-x))\n",
    "def sig_der(x):\n",
    "    return x * (1-x)"
   ]
  },
  {
   "cell_type": "code",
   "execution_count": 52,
   "id": "2cacacd9-936e-4d6d-9abd-a0674ba21336",
   "metadata": {},
   "outputs": [],
   "source": [
    "inp_data = np.array([[0,0],[0,1],[1,0],[1,1]])\n",
    "out_XOR = np.array([[0],[1],[1],[0]])"
   ]
  },
  {
   "cell_type": "code",
   "execution_count": 53,
   "id": "2f46532e-486b-4e7f-a6c5-681a4d7d474c",
   "metadata": {},
   "outputs": [
    {
     "data": {
      "text/plain": [
       "(array([[0, 0],\n",
       "        [0, 1],\n",
       "        [1, 0],\n",
       "        [1, 1]]),\n",
       " array([[0],\n",
       "        [1],\n",
       "        [1],\n",
       "        [0]]))"
      ]
     },
     "execution_count": 53,
     "metadata": {},
     "output_type": "execute_result"
    }
   ],
   "source": [
    "inp_data,out_XOR"
   ]
  },
  {
   "cell_type": "code",
   "execution_count": 54,
   "id": "dc25cd1a-18b1-4447-8cea-0b3dcf1d9afd",
   "metadata": {},
   "outputs": [],
   "source": [
    "inp_neuron=2\n",
    "hid_neuron=6\n",
    "out_neuron=1"
   ]
  },
  {
   "cell_type": "code",
   "execution_count": 55,
   "id": "c6a87d5b-1f6c-4178-a273-719158da7ea0",
   "metadata": {},
   "outputs": [],
   "source": [
    "inp_hid_wt = 2*np.random.random((inp_neuron,hid_neuron))-1"
   ]
  },
  {
   "cell_type": "code",
   "execution_count": 56,
   "id": "a2088986-bcd2-4d56-af02-88025b88e007",
   "metadata": {},
   "outputs": [
    {
     "data": {
      "text/plain": [
       "array([[ 0.72961618,  0.13664805,  0.072002  , -0.42277018,  0.28526605,\n",
       "        -0.2547287 ],\n",
       "       [ 0.88330391, -0.27470026,  0.76922909, -0.74686503,  0.64237791,\n",
       "        -0.83269897]])"
      ]
     },
     "execution_count": 56,
     "metadata": {},
     "output_type": "execute_result"
    }
   ],
   "source": [
    "inp_hid_wt"
   ]
  },
  {
   "cell_type": "code",
   "execution_count": 57,
   "id": "36de9b1f-dc77-443e-b275-45a33dfc37dc",
   "metadata": {},
   "outputs": [],
   "source": [
    "hid_out_wt = 2*np.random.random((hid_neuron,out_neuron))-1"
   ]
  },
  {
   "cell_type": "code",
   "execution_count": 58,
   "id": "a62402f6-3baf-481b-a337-821aa51990e1",
   "metadata": {},
   "outputs": [
    {
     "data": {
      "text/plain": [
       "array([[-0.15921027],\n",
       "       [-0.94264972],\n",
       "       [ 0.36813058],\n",
       "       [-0.30077963],\n",
       "       [ 0.77652756],\n",
       "       [-0.99348231]])"
      ]
     },
     "execution_count": 58,
     "metadata": {},
     "output_type": "execute_result"
    }
   ],
   "source": [
    "hid_out_wt"
   ]
  },
  {
   "cell_type": "code",
   "execution_count": 59,
   "id": "e161ea51-bc6a-4546-98ac-8d8a5e1eedfe",
   "metadata": {},
   "outputs": [],
   "source": [
    "epochs = 1000\n",
    "lr=0.5"
   ]
  },
  {
   "cell_type": "code",
   "execution_count": 60,
   "id": "a11b6071-1793-410b-bb59-7827ee290c1b",
   "metadata": {},
   "outputs": [],
   "source": [
    "for i in range(epochs):\n",
    "    # feed forward\n",
    "    \n",
    "    hid_layer_out=sigmoid(np.dot(inp_data,inp_hid_wt))\n",
    "    out_layer_out=sigmoid(np.dot(hid_layer_out,hid_out_wt))\n",
    "\n",
    "    # output layer error\n",
    "    error = out_XOR-out_layer_out\n",
    "    \n",
    "    # back propogation\n",
    "    \n",
    "    delta_output=error*sig_der(out_layer_out)\n",
    "    new_hid_out_wt=lr*np.dot(hid_layer_out.T,delta_output)\n",
    "\n",
    "    #hidden layer error\n",
    "    \n",
    "    hidden_error=np.dot(delta_output,hid_out_wt.T)\n",
    "    delta_hidden=hidden_error*sig_der(hid_layer_out)\n",
    "    new_inp_hid_wt=lr*np.dot(inp_data.T,delta_hidden)\n",
    "    \n",
    "    # changing weights\n",
    "    hid_out_wt+=new_hid_out_wt\n",
    "    inp_hid_wt+=new_inp_hid_wt\n",
    "    "
   ]
  },
  {
   "cell_type": "code",
   "execution_count": 61,
   "id": "cb84ad3d-ad42-4e9e-bd71-40c99f9d6f18",
   "metadata": {},
   "outputs": [],
   "source": [
    "hidden_layer_output=sigmoid(np.dot(inp_data,inp_hid_wt))\n",
    "final_output=sigmoid(np.dot(hidden_layer_output,hid_out_wt))"
   ]
  },
  {
   "cell_type": "code",
   "execution_count": 62,
   "id": "571752e2-4820-4718-bf6a-bb35348bfdfb",
   "metadata": {},
   "outputs": [
    {
     "data": {
      "text/plain": [
       "array([[0.],\n",
       "       [1.],\n",
       "       [1.],\n",
       "       [0.]])"
      ]
     },
     "execution_count": 62,
     "metadata": {},
     "output_type": "execute_result"
    }
   ],
   "source": [
    "np.round(final_output)"
   ]
  },
  {
   "cell_type": "code",
   "execution_count": null,
   "id": "2a1378fc-eedb-4679-842f-5d64a59a6f57",
   "metadata": {},
   "outputs": [],
   "source": []
  },
  {
   "cell_type": "code",
   "execution_count": null,
   "id": "a38953ac-9e6e-4ca6-9615-a6e144e3e6c1",
   "metadata": {},
   "outputs": [],
   "source": []
  }
 ],
 "metadata": {
  "kernelspec": {
   "display_name": "Python 3 (ipykernel)",
   "language": "python",
   "name": "python3"
  },
  "language_info": {
   "codemirror_mode": {
    "name": "ipython",
    "version": 3
   },
   "file_extension": ".py",
   "mimetype": "text/x-python",
   "name": "python",
   "nbconvert_exporter": "python",
   "pygments_lexer": "ipython3",
   "version": "3.12.3"
  }
 },
 "nbformat": 4,
 "nbformat_minor": 5
}
