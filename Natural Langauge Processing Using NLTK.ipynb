{
 "cells": [
  {
   "cell_type": "code",
   "execution_count": 1,
   "id": "535b0244-af44-4c0a-b445-bfab20b026ef",
   "metadata": {},
   "outputs": [
    {
     "name": "stdout",
     "output_type": "stream",
     "text": [
      "Collecting nltk\n",
      "  Downloading nltk-3.8.1-py3-none-any.whl.metadata (2.8 kB)\n",
      "Collecting click (from nltk)\n",
      "  Downloading click-8.1.7-py3-none-any.whl.metadata (3.0 kB)\n",
      "Requirement already satisfied: joblib in c:\\users\\admin\\appdata\\local\\programs\\python\\python312\\lib\\site-packages (from nltk) (1.4.0)\n",
      "Collecting regex>=2021.8.3 (from nltk)\n",
      "  Downloading regex-2024.5.15-cp312-cp312-win_amd64.whl.metadata (41 kB)\n",
      "     ---------------------------------------- 0.0/42.0 kB ? eta -:--:--\n",
      "     --------- ------------------------------ 10.2/42.0 kB ? eta -:--:--\n",
      "     ------------------ ------------------- 20.5/42.0 kB 330.3 kB/s eta 0:00:01\n",
      "     -------------------------------------- 42.0/42.0 kB 406.8 kB/s eta 0:00:00\n",
      "Collecting tqdm (from nltk)\n",
      "  Downloading tqdm-4.66.4-py3-none-any.whl.metadata (57 kB)\n",
      "     ---------------------------------------- 0.0/57.6 kB ? eta -:--:--\n",
      "     ---------------------------------------- 57.6/57.6 kB 1.5 MB/s eta 0:00:00\n",
      "Requirement already satisfied: colorama in c:\\users\\admin\\appdata\\local\\programs\\python\\python312\\lib\\site-packages (from click->nltk) (0.4.6)\n",
      "Downloading nltk-3.8.1-py3-none-any.whl (1.5 MB)\n",
      "   ---------------------------------------- 0.0/1.5 MB ? eta -:--:--\n",
      "   ------ --------------------------------- 0.2/1.5 MB 7.6 MB/s eta 0:00:01\n",
      "   ---------------- ----------------------- 0.6/1.5 MB 7.9 MB/s eta 0:00:01\n",
      "   ---------------------------- ----------- 1.1/1.5 MB 8.5 MB/s eta 0:00:01\n",
      "   ---------------------------------------  1.5/1.5 MB 8.7 MB/s eta 0:00:01\n",
      "   ---------------------------------------- 1.5/1.5 MB 8.0 MB/s eta 0:00:00\n",
      "Downloading regex-2024.5.15-cp312-cp312-win_amd64.whl (268 kB)\n",
      "   ---------------------------------------- 0.0/268.5 kB ? eta -:--:--\n",
      "   --------------------------------------- 268.5/268.5 kB 17.2 MB/s eta 0:00:00\n",
      "Downloading click-8.1.7-py3-none-any.whl (97 kB)\n",
      "   ---------------------------------------- 0.0/97.9 kB ? eta -:--:--\n",
      "   ---------------------------------------- 97.9/97.9 kB ? eta 0:00:00\n",
      "Downloading tqdm-4.66.4-py3-none-any.whl (78 kB)\n",
      "   ---------------------------------------- 0.0/78.3 kB ? eta -:--:--\n",
      "   ---------------------------------------- 78.3/78.3 kB 4.3 MB/s eta 0:00:00\n",
      "Installing collected packages: tqdm, regex, click, nltk\n",
      "Successfully installed click-8.1.7 nltk-3.8.1 regex-2024.5.15 tqdm-4.66.4\n",
      "Note: you may need to restart the kernel to use updated packages.\n"
     ]
    },
    {
     "name": "stderr",
     "output_type": "stream",
     "text": [
      "\n",
      "[notice] A new release of pip is available: 24.0 -> 24.1.1\n",
      "[notice] To update, run: python.exe -m pip install --upgrade pip\n"
     ]
    }
   ],
   "source": [
    "pip install nltk"
   ]
  },
  {
   "cell_type": "code",
   "execution_count": 2,
   "id": "59314f99-b0f1-46d6-813b-abeefd34b7a9",
   "metadata": {},
   "outputs": [],
   "source": [
    "import nltk"
   ]
  },
  {
   "cell_type": "code",
   "execution_count": 8,
   "id": "22f8743c-2c07-4724-aa6d-5afc029fc405",
   "metadata": {},
   "outputs": [
    {
     "name": "stdout",
     "output_type": "stream",
     "text": [
      "showing info https://raw.githubusercontent.com/nltk/nltk_data/gh-pages/index.xml\n"
     ]
    },
    {
     "data": {
      "text/plain": [
       "True"
      ]
     },
     "execution_count": 8,
     "metadata": {},
     "output_type": "execute_result"
    }
   ],
   "source": [
    "nltk.download()"
   ]
  },
  {
   "cell_type": "code",
   "execution_count": null,
   "id": "9d1f2f88-738e-478d-90a5-085a11d5da58",
   "metadata": {},
   "outputs": [],
   "source": [
    "#Word Tokenizer"
   ]
  },
  {
   "cell_type": "code",
   "execution_count": 9,
   "id": "b940ca7a-4782-4731-88f9-cf8f0dfb1084",
   "metadata": {},
   "outputs": [],
   "source": [
    "from nltk.tokenize import word_tokenize"
   ]
  },
  {
   "cell_type": "code",
   "execution_count": 10,
   "id": "b3cc5c3e-3daa-49c4-9ba0-1272ba7ea6de",
   "metadata": {},
   "outputs": [],
   "source": [
    "text=\"The India men's national cricket team represents India in men's international cricket. It is governed by the Board of Control for Cricket in India, and is a Full Member of the International Cricket Council with Test, One Day International and Twenty20 International status.\""
   ]
  },
  {
   "cell_type": "code",
   "execution_count": 11,
   "id": "6ba255b9-8f9a-4d1a-80cf-f8d7a6d9785c",
   "metadata": {},
   "outputs": [],
   "source": [
    "words=word_tokenize(text)"
   ]
  },
  {
   "cell_type": "code",
   "execution_count": 12,
   "id": "7c7b9b28-6bad-41d5-be18-aa6715c6d269",
   "metadata": {},
   "outputs": [
    {
     "data": {
      "text/plain": [
       "['The',\n",
       " 'India',\n",
       " 'men',\n",
       " \"'s\",\n",
       " 'national',\n",
       " 'cricket',\n",
       " 'team',\n",
       " 'represents',\n",
       " 'India',\n",
       " 'in',\n",
       " 'men',\n",
       " \"'s\",\n",
       " 'international',\n",
       " 'cricket',\n",
       " '.',\n",
       " 'It',\n",
       " 'is',\n",
       " 'governed',\n",
       " 'by',\n",
       " 'the',\n",
       " 'Board',\n",
       " 'of',\n",
       " 'Control',\n",
       " 'for',\n",
       " 'Cricket',\n",
       " 'in',\n",
       " 'India',\n",
       " ',',\n",
       " 'and',\n",
       " 'is',\n",
       " 'a',\n",
       " 'Full',\n",
       " 'Member',\n",
       " 'of',\n",
       " 'the',\n",
       " 'International',\n",
       " 'Cricket',\n",
       " 'Council',\n",
       " 'with',\n",
       " 'Test',\n",
       " ',',\n",
       " 'One',\n",
       " 'Day',\n",
       " 'International',\n",
       " 'and',\n",
       " 'Twenty20',\n",
       " 'International',\n",
       " 'status',\n",
       " '.']"
      ]
     },
     "execution_count": 12,
     "metadata": {},
     "output_type": "execute_result"
    }
   ],
   "source": [
    "words"
   ]
  },
  {
   "cell_type": "code",
   "execution_count": null,
   "id": "aaf7529a-135e-4cf4-81bd-4fe324ceaee7",
   "metadata": {},
   "outputs": [],
   "source": [
    "# Sentence Tokenizer"
   ]
  },
  {
   "cell_type": "code",
   "execution_count": 13,
   "id": "5362b7eb-119b-4cce-8ffa-a57cf04f0b42",
   "metadata": {},
   "outputs": [],
   "source": [
    "from nltk.tokenize import sent_tokenize"
   ]
  },
  {
   "cell_type": "code",
   "execution_count": 14,
   "id": "a0eee517-3e05-4f39-9b43-d41c3363d132",
   "metadata": {},
   "outputs": [],
   "source": [
    "sentences=sent_tokenize(text)"
   ]
  },
  {
   "cell_type": "code",
   "execution_count": 15,
   "id": "39a08196-83c3-4401-9d65-a78ca5a7b668",
   "metadata": {},
   "outputs": [
    {
     "data": {
      "text/plain": [
       "[\"The India men's national cricket team represents India in men's international cricket.\",\n",
       " 'It is governed by the Board of Control for Cricket in India, and is a Full Member of the International Cricket Council with Test, One Day International and Twenty20 International status.']"
      ]
     },
     "execution_count": 15,
     "metadata": {},
     "output_type": "execute_result"
    }
   ],
   "source": [
    "sentences"
   ]
  },
  {
   "cell_type": "code",
   "execution_count": null,
   "id": "01d5cd1e-91ef-46f5-a5d5-15d3aa1cf3ad",
   "metadata": {},
   "outputs": [],
   "source": [
    "# Stopwords Removing"
   ]
  },
  {
   "cell_type": "code",
   "execution_count": 17,
   "id": "56aa5944-21a5-41f8-8737-80e17bc82c62",
   "metadata": {},
   "outputs": [],
   "source": [
    "from nltk.corpus import stopwords"
   ]
  },
  {
   "cell_type": "code",
   "execution_count": 19,
   "id": "19d2cb32-870e-4407-908b-a3387800d9b8",
   "metadata": {},
   "outputs": [],
   "source": [
    "stop_words=set(stopwords.words(\"english\"))"
   ]
  },
  {
   "cell_type": "code",
   "execution_count": 20,
   "id": "82f1341c-ed43-4442-8cf9-051c11d7cea2",
   "metadata": {},
   "outputs": [
    {
     "data": {
      "text/plain": [
       "{'a',\n",
       " 'about',\n",
       " 'above',\n",
       " 'after',\n",
       " 'again',\n",
       " 'against',\n",
       " 'ain',\n",
       " 'all',\n",
       " 'am',\n",
       " 'an',\n",
       " 'and',\n",
       " 'any',\n",
       " 'are',\n",
       " 'aren',\n",
       " \"aren't\",\n",
       " 'as',\n",
       " 'at',\n",
       " 'be',\n",
       " 'because',\n",
       " 'been',\n",
       " 'before',\n",
       " 'being',\n",
       " 'below',\n",
       " 'between',\n",
       " 'both',\n",
       " 'but',\n",
       " 'by',\n",
       " 'can',\n",
       " 'couldn',\n",
       " \"couldn't\",\n",
       " 'd',\n",
       " 'did',\n",
       " 'didn',\n",
       " \"didn't\",\n",
       " 'do',\n",
       " 'does',\n",
       " 'doesn',\n",
       " \"doesn't\",\n",
       " 'doing',\n",
       " 'don',\n",
       " \"don't\",\n",
       " 'down',\n",
       " 'during',\n",
       " 'each',\n",
       " 'few',\n",
       " 'for',\n",
       " 'from',\n",
       " 'further',\n",
       " 'had',\n",
       " 'hadn',\n",
       " \"hadn't\",\n",
       " 'has',\n",
       " 'hasn',\n",
       " \"hasn't\",\n",
       " 'have',\n",
       " 'haven',\n",
       " \"haven't\",\n",
       " 'having',\n",
       " 'he',\n",
       " 'her',\n",
       " 'here',\n",
       " 'hers',\n",
       " 'herself',\n",
       " 'him',\n",
       " 'himself',\n",
       " 'his',\n",
       " 'how',\n",
       " 'i',\n",
       " 'if',\n",
       " 'in',\n",
       " 'into',\n",
       " 'is',\n",
       " 'isn',\n",
       " \"isn't\",\n",
       " 'it',\n",
       " \"it's\",\n",
       " 'its',\n",
       " 'itself',\n",
       " 'just',\n",
       " 'll',\n",
       " 'm',\n",
       " 'ma',\n",
       " 'me',\n",
       " 'mightn',\n",
       " \"mightn't\",\n",
       " 'more',\n",
       " 'most',\n",
       " 'mustn',\n",
       " \"mustn't\",\n",
       " 'my',\n",
       " 'myself',\n",
       " 'needn',\n",
       " \"needn't\",\n",
       " 'no',\n",
       " 'nor',\n",
       " 'not',\n",
       " 'now',\n",
       " 'o',\n",
       " 'of',\n",
       " 'off',\n",
       " 'on',\n",
       " 'once',\n",
       " 'only',\n",
       " 'or',\n",
       " 'other',\n",
       " 'our',\n",
       " 'ours',\n",
       " 'ourselves',\n",
       " 'out',\n",
       " 'over',\n",
       " 'own',\n",
       " 're',\n",
       " 's',\n",
       " 'same',\n",
       " 'shan',\n",
       " \"shan't\",\n",
       " 'she',\n",
       " \"she's\",\n",
       " 'should',\n",
       " \"should've\",\n",
       " 'shouldn',\n",
       " \"shouldn't\",\n",
       " 'so',\n",
       " 'some',\n",
       " 'such',\n",
       " 't',\n",
       " 'than',\n",
       " 'that',\n",
       " \"that'll\",\n",
       " 'the',\n",
       " 'their',\n",
       " 'theirs',\n",
       " 'them',\n",
       " 'themselves',\n",
       " 'then',\n",
       " 'there',\n",
       " 'these',\n",
       " 'they',\n",
       " 'this',\n",
       " 'those',\n",
       " 'through',\n",
       " 'to',\n",
       " 'too',\n",
       " 'under',\n",
       " 'until',\n",
       " 'up',\n",
       " 've',\n",
       " 'very',\n",
       " 'was',\n",
       " 'wasn',\n",
       " \"wasn't\",\n",
       " 'we',\n",
       " 'were',\n",
       " 'weren',\n",
       " \"weren't\",\n",
       " 'what',\n",
       " 'when',\n",
       " 'where',\n",
       " 'which',\n",
       " 'while',\n",
       " 'who',\n",
       " 'whom',\n",
       " 'why',\n",
       " 'will',\n",
       " 'with',\n",
       " 'won',\n",
       " \"won't\",\n",
       " 'wouldn',\n",
       " \"wouldn't\",\n",
       " 'y',\n",
       " 'you',\n",
       " \"you'd\",\n",
       " \"you'll\",\n",
       " \"you're\",\n",
       " \"you've\",\n",
       " 'your',\n",
       " 'yours',\n",
       " 'yourself',\n",
       " 'yourselves'}"
      ]
     },
     "execution_count": 20,
     "metadata": {},
     "output_type": "execute_result"
    }
   ],
   "source": [
    "stop_words"
   ]
  },
  {
   "cell_type": "code",
   "execution_count": 21,
   "id": "4165f6da-bfa3-413c-8d73-ca735e63e81f",
   "metadata": {},
   "outputs": [
    {
     "data": {
      "text/plain": [
       "['India',\n",
       " 'men',\n",
       " \"'s\",\n",
       " 'national',\n",
       " 'cricket',\n",
       " 'team',\n",
       " 'represents',\n",
       " 'India',\n",
       " 'men',\n",
       " \"'s\",\n",
       " 'international',\n",
       " 'cricket',\n",
       " '.',\n",
       " 'governed',\n",
       " 'Board',\n",
       " 'Control',\n",
       " 'Cricket',\n",
       " 'India',\n",
       " ',',\n",
       " 'Full',\n",
       " 'Member',\n",
       " 'International',\n",
       " 'Cricket',\n",
       " 'Council',\n",
       " 'Test',\n",
       " ',',\n",
       " 'One',\n",
       " 'Day',\n",
       " 'International',\n",
       " 'Twenty20',\n",
       " 'International',\n",
       " 'status',\n",
       " '.']"
      ]
     },
     "execution_count": 21,
     "metadata": {},
     "output_type": "execute_result"
    }
   ],
   "source": [
    "filtered_words=[i for i in words if i.lower() not in stop_words]\n",
    "filtered_words"
   ]
  },
  {
   "cell_type": "code",
   "execution_count": 22,
   "id": "ab42d097-e57d-4955-b923-5f6676b658b5",
   "metadata": {},
   "outputs": [
    {
     "data": {
      "text/plain": [
       "(49, 33)"
      ]
     },
     "execution_count": 22,
     "metadata": {},
     "output_type": "execute_result"
    }
   ],
   "source": [
    "len(words),len(filtered_words)"
   ]
  },
  {
   "cell_type": "code",
   "execution_count": 23,
   "id": "28224f09-dd86-402d-b160-f556c15423e3",
   "metadata": {},
   "outputs": [],
   "source": [
    "import string"
   ]
  },
  {
   "cell_type": "code",
   "execution_count": 24,
   "id": "d0cd6c93-da18-45f4-8ba2-be6583de2604",
   "metadata": {},
   "outputs": [
    {
     "data": {
      "text/plain": [
       "['!',\n",
       " '\"',\n",
       " '#',\n",
       " '$',\n",
       " '%',\n",
       " '&',\n",
       " \"'\",\n",
       " '(',\n",
       " ')',\n",
       " '*',\n",
       " '+',\n",
       " ',',\n",
       " '-',\n",
       " '.',\n",
       " '/',\n",
       " ':',\n",
       " ';',\n",
       " '<',\n",
       " '=',\n",
       " '>',\n",
       " '?',\n",
       " '@',\n",
       " '[',\n",
       " '\\\\',\n",
       " ']',\n",
       " '^',\n",
       " '_',\n",
       " '`',\n",
       " '{',\n",
       " '|',\n",
       " '}',\n",
       " '~']"
      ]
     },
     "execution_count": 24,
     "metadata": {},
     "output_type": "execute_result"
    }
   ],
   "source": [
    "punctuations=list(string.punctuation)\n",
    "punctuations"
   ]
  },
  {
   "cell_type": "code",
   "execution_count": 25,
   "id": "2d2e6417-8062-4d6b-a9b1-2642eba342aa",
   "metadata": {},
   "outputs": [
    {
     "data": {
      "text/plain": [
       "['India',\n",
       " 'men',\n",
       " \"'s\",\n",
       " 'national',\n",
       " 'cricket',\n",
       " 'team',\n",
       " 'represents',\n",
       " 'India',\n",
       " 'men',\n",
       " \"'s\",\n",
       " 'international',\n",
       " 'cricket',\n",
       " 'governed',\n",
       " 'Board',\n",
       " 'Control',\n",
       " 'Cricket',\n",
       " 'India',\n",
       " 'Full',\n",
       " 'Member',\n",
       " 'International',\n",
       " 'Cricket',\n",
       " 'Council',\n",
       " 'Test',\n",
       " 'One',\n",
       " 'Day',\n",
       " 'International',\n",
       " 'Twenty20',\n",
       " 'International',\n",
       " 'status']"
      ]
     },
     "execution_count": 25,
     "metadata": {},
     "output_type": "execute_result"
    }
   ],
   "source": [
    "filtered_words_2=[i for i in filtered_words if i not in punctuations]\n",
    "filtered_words_2"
   ]
  },
  {
   "cell_type": "code",
   "execution_count": 26,
   "id": "f42fe010-e6e9-44f6-a167-631dc2598d6e",
   "metadata": {},
   "outputs": [
    {
     "data": {
      "text/plain": [
       "29"
      ]
     },
     "execution_count": 26,
     "metadata": {},
     "output_type": "execute_result"
    }
   ],
   "source": [
    "len(filtered_words_2)"
   ]
  },
  {
   "cell_type": "code",
   "execution_count": 27,
   "id": "89fb0d09-b266-4e19-af6d-dc9c8ebb92e3",
   "metadata": {},
   "outputs": [],
   "source": [
    "# STEMMING"
   ]
  },
  {
   "cell_type": "code",
   "execution_count": 28,
   "id": "ec1065df-c973-4da6-9cc5-99bea25203b7",
   "metadata": {},
   "outputs": [],
   "source": [
    "from nltk.stem import PorterStemmer"
   ]
  },
  {
   "cell_type": "code",
   "execution_count": 29,
   "id": "4e18cec6-adf2-4cb5-9b44-83c99988e498",
   "metadata": {},
   "outputs": [],
   "source": [
    "stemmer=PorterStemmer()"
   ]
  },
  {
   "cell_type": "code",
   "execution_count": 30,
   "id": "03316092-d159-4575-b2fd-9608e24f1473",
   "metadata": {},
   "outputs": [],
   "source": [
    "words_2=[\"running\",\"worked\",\"rainy\",\"literally\",\"having\"]"
   ]
  },
  {
   "cell_type": "code",
   "execution_count": 31,
   "id": "00698be6-535b-489c-b8a6-ae44c733b08c",
   "metadata": {},
   "outputs": [
    {
     "data": {
      "text/plain": [
       "['run', 'work', 'raini', 'liter', 'have']"
      ]
     },
     "execution_count": 31,
     "metadata": {},
     "output_type": "execute_result"
    }
   ],
   "source": [
    "[stemmer.stem(i) for i in words_2]"
   ]
  },
  {
   "cell_type": "code",
   "execution_count": null,
   "id": "fc6d7814-e741-42d9-a644-1e64c2fa1474",
   "metadata": {},
   "outputs": [],
   "source": [
    "# Lemmatizer"
   ]
  },
  {
   "cell_type": "code",
   "execution_count": 32,
   "id": "3385dcf3-20e8-4697-85e2-15e6a008a674",
   "metadata": {},
   "outputs": [],
   "source": [
    "from nltk.stem.wordnet import WordNetLemmatizer"
   ]
  },
  {
   "cell_type": "code",
   "execution_count": 33,
   "id": "6dcd9f86-8121-4991-b47f-a7ba01360956",
   "metadata": {},
   "outputs": [],
   "source": [
    "lemma=WordNetLemmatizer()"
   ]
  },
  {
   "cell_type": "code",
   "execution_count": 34,
   "id": "cd9742b1-785a-4997-9bea-f053715e99d6",
   "metadata": {},
   "outputs": [
    {
     "data": {
      "text/plain": [
       "'fly'"
      ]
     },
     "execution_count": 34,
     "metadata": {},
     "output_type": "execute_result"
    }
   ],
   "source": [
    "lemma.lemmatize(\"flying\",\"v\")"
   ]
  },
  {
   "cell_type": "code",
   "execution_count": 35,
   "id": "94d65667-7888-41ed-ac06-84b276df882c",
   "metadata": {},
   "outputs": [
    {
     "data": {
      "text/plain": [
       "'run'"
      ]
     },
     "execution_count": 35,
     "metadata": {},
     "output_type": "execute_result"
    }
   ],
   "source": [
    "lemma.lemmatize(\"running\",\"v\")"
   ]
  },
  {
   "cell_type": "code",
   "execution_count": 36,
   "id": "e8fcf547-de7a-44af-a8f9-665f495e5e4a",
   "metadata": {},
   "outputs": [
    {
     "data": {
      "text/plain": [
       "'work'"
      ]
     },
     "execution_count": 36,
     "metadata": {},
     "output_type": "execute_result"
    }
   ],
   "source": [
    "lemma.lemmatize(\"worked\",\"v\")"
   ]
  },
  {
   "cell_type": "code",
   "execution_count": 37,
   "id": "ef3cf424-9ffd-46b6-b4a8-239a0c6500e1",
   "metadata": {},
   "outputs": [],
   "source": [
    "# POS - Parts of Speech Tagging"
   ]
  },
  {
   "cell_type": "code",
   "execution_count": 38,
   "id": "e29bb867-9c86-4061-aba5-7e0799ec4d26",
   "metadata": {},
   "outputs": [],
   "source": [
    "from nltk import pos_tag"
   ]
  },
  {
   "cell_type": "code",
   "execution_count": 39,
   "id": "c2e4a3ad-3344-4b26-bb0e-f89378d25b8b",
   "metadata": {},
   "outputs": [],
   "source": [
    "sent1 = \"Albert Einstein was born in Mumbai,Maharashtra,India in 1983\""
   ]
  },
  {
   "cell_type": "code",
   "execution_count": 40,
   "id": "bd86ee92-8703-4729-8ce4-5dd2ca771f8e",
   "metadata": {},
   "outputs": [
    {
     "data": {
      "text/plain": [
       "['Albert',\n",
       " 'Einstein',\n",
       " 'was',\n",
       " 'born',\n",
       " 'in',\n",
       " 'Mumbai',\n",
       " ',',\n",
       " 'Maharashtra',\n",
       " ',',\n",
       " 'India',\n",
       " 'in',\n",
       " '1983']"
      ]
     },
     "execution_count": 40,
     "metadata": {},
     "output_type": "execute_result"
    }
   ],
   "source": [
    "words_3 = word_tokenize(sent1)\n",
    "words_3"
   ]
  },
  {
   "cell_type": "code",
   "execution_count": 41,
   "id": "def9e6d1-58c5-4e15-b205-4c78436ed1cf",
   "metadata": {},
   "outputs": [
    {
     "data": {
      "text/plain": [
       "[('Albert', 'NNP'),\n",
       " ('Einstein', 'NNP'),\n",
       " ('was', 'VBD'),\n",
       " ('born', 'VBN'),\n",
       " ('in', 'IN'),\n",
       " ('Mumbai', 'NNP'),\n",
       " (',', ','),\n",
       " ('Maharashtra', 'NNP'),\n",
       " (',', ','),\n",
       " ('India', 'NNP'),\n",
       " ('in', 'IN'),\n",
       " ('1983', 'CD')]"
      ]
     },
     "execution_count": 41,
     "metadata": {},
     "output_type": "execute_result"
    }
   ],
   "source": [
    "pos = pos_tag(words_3)\n",
    "pos"
   ]
  },
  {
   "cell_type": "code",
   "execution_count": 42,
   "id": "85c89414-0f04-4ed1-bda7-af6f34d821e8",
   "metadata": {},
   "outputs": [
    {
     "data": {
      "text/plain": [
       "[('India', 'NNP'),\n",
       " ('men', 'NNS'),\n",
       " (\"'s\", 'POS'),\n",
       " ('national', 'JJ'),\n",
       " ('cricket', 'NN'),\n",
       " ('team', 'NN'),\n",
       " ('represents', 'VBZ'),\n",
       " ('India', 'NNP'),\n",
       " ('men', 'NNS'),\n",
       " (\"'s\", 'POS'),\n",
       " ('international', 'JJ'),\n",
       " ('cricket', 'NN'),\n",
       " ('governed', 'VBD'),\n",
       " ('Board', 'NNP'),\n",
       " ('Control', 'NNP'),\n",
       " ('Cricket', 'NNP'),\n",
       " ('India', 'NNP'),\n",
       " ('Full', 'NNP'),\n",
       " ('Member', 'NNP'),\n",
       " ('International', 'NNP'),\n",
       " ('Cricket', 'NNP'),\n",
       " ('Council', 'NNP'),\n",
       " ('Test', 'NNP'),\n",
       " ('One', 'NNP'),\n",
       " ('Day', 'NNP'),\n",
       " ('International', 'NNP'),\n",
       " ('Twenty20', 'NNP'),\n",
       " ('International', 'NNP'),\n",
       " ('status', 'NN')]"
      ]
     },
     "execution_count": 42,
     "metadata": {},
     "output_type": "execute_result"
    }
   ],
   "source": [
    "tags = pos_tag(filtered_words_2)\n",
    "tags"
   ]
  },
  {
   "cell_type": "code",
   "execution_count": 43,
   "id": "6e1c9af8-eb83-4802-86de-8317b4698318",
   "metadata": {},
   "outputs": [],
   "source": [
    "#NER-Named Entity Recognition"
   ]
  },
  {
   "cell_type": "code",
   "execution_count": 44,
   "id": "da073adf-3a80-4b94-8088-54d64b3cabd9",
   "metadata": {},
   "outputs": [],
   "source": [
    "from nltk import ne_chunk"
   ]
  },
  {
   "cell_type": "code",
   "execution_count": 45,
   "id": "a08f525c-481c-4676-ad18-5d0f4efaa47e",
   "metadata": {},
   "outputs": [],
   "source": [
    "sent2 = \"Steve Jobs was founder of Apple Company,California\""
   ]
  },
  {
   "cell_type": "code",
   "execution_count": 46,
   "id": "7486ccf7-7afd-4df3-863f-35dc04dd5068",
   "metadata": {},
   "outputs": [
    {
     "name": "stdout",
     "output_type": "stream",
     "text": [
      "PERSON Steve\n",
      "PERSON Jobs\n",
      "PERSON Apple Company\n",
      "GPE California\n"
     ]
    }
   ],
   "source": [
    "for chunks in ne_chunk(pos_tag(word_tokenize(sent2))):\n",
    "    if hasattr(chunks,\"label\"):\n",
    "        print(chunks.label(),\" \".join(i[0] for i in chunks))"
   ]
  },
  {
   "cell_type": "code",
   "execution_count": 48,
   "id": "7596cb7d-8a32-4fe2-9041-26c3968a220b",
   "metadata": {},
   "outputs": [],
   "source": [
    "sent3 = \"New York city on Tuesday declared a public health emergency and ordered mandatory medications.\""
   ]
  },
  {
   "cell_type": "code",
   "execution_count": 49,
   "id": "f6aba0cf-2e52-451e-99e6-1bee6059f75f",
   "metadata": {},
   "outputs": [
    {
     "name": "stdout",
     "output_type": "stream",
     "text": [
      "GPE New York\n"
     ]
    }
   ],
   "source": [
    "for chunks in ne_chunk(pos_tag(word_tokenize(sent3))):\n",
    "    if hasattr(chunks,\"label\"):\n",
    "        print(chunks.label(),\" \".join(i[0] for i in chunks))"
   ]
  },
  {
   "cell_type": "code",
   "execution_count": 50,
   "id": "2787fb32-6a00-4f9f-8a54-b812a25a9322",
   "metadata": {},
   "outputs": [],
   "source": [
    "# Synonyms"
   ]
  },
  {
   "cell_type": "code",
   "execution_count": 51,
   "id": "8ddfae8a-0f9d-4d30-acc9-252ecb3bfd6c",
   "metadata": {},
   "outputs": [],
   "source": [
    "from nltk.corpus import wordnet"
   ]
  },
  {
   "cell_type": "code",
   "execution_count": 52,
   "id": "6be335aa-f4b3-4ce0-8c64-1942f603b7dc",
   "metadata": {},
   "outputs": [
    {
     "data": {
      "text/plain": [
       "[Synset('bank.n.01'),\n",
       " Synset('depository_financial_institution.n.01'),\n",
       " Synset('bank.n.03'),\n",
       " Synset('bank.n.04'),\n",
       " Synset('bank.n.05'),\n",
       " Synset('bank.n.06'),\n",
       " Synset('bank.n.07'),\n",
       " Synset('savings_bank.n.02'),\n",
       " Synset('bank.n.09'),\n",
       " Synset('bank.n.10'),\n",
       " Synset('bank.v.01'),\n",
       " Synset('bank.v.02'),\n",
       " Synset('bank.v.03'),\n",
       " Synset('bank.v.04'),\n",
       " Synset('bank.v.05'),\n",
       " Synset('deposit.v.02'),\n",
       " Synset('bank.v.07'),\n",
       " Synset('trust.v.01')]"
      ]
     },
     "execution_count": 52,
     "metadata": {},
     "output_type": "execute_result"
    }
   ],
   "source": [
    "syns = wordnet.synsets(\"bank\")\n",
    "syns"
   ]
  },
  {
   "cell_type": "code",
   "execution_count": 53,
   "id": "45ec5d4c-f116-477e-82c6-5eaa5668beb2",
   "metadata": {},
   "outputs": [
    {
     "name": "stdout",
     "output_type": "stream",
     "text": [
      "bank.n.01\n",
      "bank\n",
      "sloping land (especially the slope beside a body of water)\n",
      "['they pulled the canoe up on the bank', 'he sat on the bank of the river and watched the currents']\n",
      "------------------------------------------------\n",
      "depository_financial_institution.n.01\n",
      "depository_financial_institution\n",
      "a financial institution that accepts deposits and channels the money into lending activities\n",
      "['he cashed a check at the bank', 'that bank holds the mortgage on my home']\n",
      "------------------------------------------------\n",
      "bank.n.03\n",
      "bank\n",
      "a long ridge or pile\n",
      "['a huge bank of earth']\n",
      "------------------------------------------------\n",
      "bank.n.04\n",
      "bank\n",
      "an arrangement of similar objects in a row or in tiers\n",
      "['he operated a bank of switches']\n",
      "------------------------------------------------\n",
      "bank.n.05\n",
      "bank\n",
      "a supply or stock held in reserve for future use (especially in emergencies)\n",
      "[]\n",
      "------------------------------------------------\n",
      "bank.n.06\n",
      "bank\n",
      "the funds held by a gambling house or the dealer in some gambling games\n",
      "['he tried to break the bank at Monte Carlo']\n",
      "------------------------------------------------\n",
      "bank.n.07\n",
      "bank\n",
      "a slope in the turn of a road or track; the outside is higher than the inside in order to reduce the effects of centrifugal force\n",
      "[]\n",
      "------------------------------------------------\n",
      "savings_bank.n.02\n",
      "savings_bank\n",
      "a container (usually with a slot in the top) for keeping money at home\n",
      "['the coin bank was empty']\n",
      "------------------------------------------------\n",
      "bank.n.09\n",
      "bank\n",
      "a building in which the business of banking transacted\n",
      "['the bank is on the corner of Nassau and Witherspoon']\n",
      "------------------------------------------------\n",
      "bank.n.10\n",
      "bank\n",
      "a flight maneuver; aircraft tips laterally about its longitudinal axis (especially in turning)\n",
      "['the plane went into a steep bank']\n",
      "------------------------------------------------\n",
      "bank.v.01\n",
      "bank\n",
      "tip laterally\n",
      "['the pilot had to bank the aircraft']\n",
      "------------------------------------------------\n",
      "bank.v.02\n",
      "bank\n",
      "enclose with a bank\n",
      "['bank roads']\n",
      "------------------------------------------------\n",
      "bank.v.03\n",
      "bank\n",
      "do business with a bank or keep an account at a bank\n",
      "['Where do you bank in this town?']\n",
      "------------------------------------------------\n",
      "bank.v.04\n",
      "bank\n",
      "act as the banker in a game or in gambling\n",
      "[]\n",
      "------------------------------------------------\n",
      "bank.v.05\n",
      "bank\n",
      "be in the banking business\n",
      "[]\n",
      "------------------------------------------------\n",
      "deposit.v.02\n",
      "deposit\n",
      "put into a bank account\n",
      "['She deposits her paycheck every month']\n",
      "------------------------------------------------\n",
      "bank.v.07\n",
      "bank\n",
      "cover with ashes so to control the rate of burning\n",
      "['bank a fire']\n",
      "------------------------------------------------\n",
      "trust.v.01\n",
      "trust\n",
      "have confidence or faith in\n",
      "['We can trust in God', 'Rely on your friends', 'bank on your good education', \"I swear by my grandmother's recipes\"]\n",
      "------------------------------------------------\n"
     ]
    }
   ],
   "source": [
    "for i in range (len(syns)):\n",
    "    print(syns[i].name())\n",
    "    print(syns[i].lemmas()[0].name())\n",
    "    print(syns[i].definition())\n",
    "    print(syns[i].examples())\n",
    "    print(\"------------------------------------------------\")"
   ]
  },
  {
   "cell_type": "code",
   "execution_count": 54,
   "id": "04e9cdbc-50a0-4072-ba34-2af548e1da13",
   "metadata": {},
   "outputs": [
    {
     "data": {
      "text/plain": [
       "[Synset('undertaking.n.01'),\n",
       " Synset('project.n.02'),\n",
       " Synset('project.v.01'),\n",
       " Synset('stick_out.v.01'),\n",
       " Synset('project.v.03'),\n",
       " Synset('project.v.04'),\n",
       " Synset('project.v.05'),\n",
       " Synset('project.v.06'),\n",
       " Synset('plan.v.03'),\n",
       " Synset('project.v.08'),\n",
       " Synset('visualize.v.01'),\n",
       " Synset('project.v.10'),\n",
       " Synset('project.v.11'),\n",
       " Synset('project.v.12')]"
      ]
     },
     "execution_count": 54,
     "metadata": {},
     "output_type": "execute_result"
    }
   ],
   "source": [
    "syns2 = wordnet.synsets(\"project\")\n",
    "syns2"
   ]
  },
  {
   "cell_type": "code",
   "execution_count": 55,
   "id": "1e1f8ae0-5f15-411b-ac73-3ee93860c7e2",
   "metadata": {},
   "outputs": [
    {
     "name": "stdout",
     "output_type": "stream",
     "text": [
      "undertaking.n.01\n",
      "undertaking\n",
      "any piece of work that is undertaken or attempted\n",
      "['he prepared for great undertakings']\n",
      "------------------------------------------------\n",
      "project.n.02\n",
      "project\n",
      "a planned undertaking\n",
      "[]\n",
      "------------------------------------------------\n",
      "project.v.01\n",
      "project\n",
      "communicate vividly\n",
      "['He projected his feelings']\n",
      "------------------------------------------------\n",
      "stick_out.v.01\n",
      "stick_out\n",
      "extend out or project in space\n",
      "['His sharp nose jutted out', 'A single rock sticks out from the cliff']\n",
      "------------------------------------------------\n",
      "project.v.03\n",
      "project\n",
      "transfer (ideas or principles) from one domain into another\n",
      "[]\n",
      "------------------------------------------------\n",
      "project.v.04\n",
      "project\n",
      "project on a screen\n",
      "['The images are projected onto the screen']\n",
      "------------------------------------------------\n",
      "project.v.05\n",
      "project\n",
      "cause to be heard\n",
      "['His voice projects well']\n",
      "------------------------------------------------\n",
      "project.v.06\n",
      "project\n",
      "draw a projection of\n",
      "[]\n",
      "------------------------------------------------\n",
      "plan.v.03\n",
      "plan\n",
      "make or work out a plan for; devise\n",
      "['They contrived to murder their boss', 'design a new sales strategy', 'plan an attack']\n",
      "------------------------------------------------\n",
      "project.v.08\n",
      "project\n",
      "present for consideration, examination, criticism, etc.\n",
      "['He proposed a new plan for dealing with terrorism', 'She proposed a new theory of relativity']\n",
      "------------------------------------------------\n",
      "visualize.v.01\n",
      "visualize\n",
      "imagine; conceive of; see in one's mind\n",
      "[\"I can't see him on horseback!\", 'I can see what will happen', 'I can see a risk in this strategy']\n",
      "------------------------------------------------\n",
      "project.v.10\n",
      "project\n",
      "put or send forth\n",
      "['She threw the flashlight beam into the corner', 'The setting sun threw long shadows', 'cast a spell', 'cast a warm light']\n",
      "------------------------------------------------\n",
      "project.v.11\n",
      "project\n",
      "throw, send, or cast forward\n",
      "['project a missile']\n",
      "------------------------------------------------\n",
      "project.v.12\n",
      "project\n",
      "regard as objective\n",
      "[]\n",
      "------------------------------------------------\n"
     ]
    }
   ],
   "source": [
    "for i in range (len(syns2)):\n",
    "    print(syns2[i].name())\n",
    "    print(syns2[i].lemmas()[0].name())\n",
    "    print(syns2[i].definition())\n",
    "    print(syns2[i].examples())\n",
    "    print(\"------------------------------------------------\")"
   ]
  },
  {
   "cell_type": "code",
   "execution_count": 56,
   "id": "3cf4aed9-da95-45b1-9023-1439605ae64a",
   "metadata": {},
   "outputs": [
    {
     "data": {
      "text/plain": [
       "[Synset('plan.n.01'),\n",
       " Synset('program.n.02'),\n",
       " Synset('broadcast.n.02'),\n",
       " Synset('platform.n.02'),\n",
       " Synset('program.n.05'),\n",
       " Synset('course_of_study.n.01'),\n",
       " Synset('program.n.07'),\n",
       " Synset('program.n.08'),\n",
       " Synset('program.v.01'),\n",
       " Synset('program.v.02')]"
      ]
     },
     "execution_count": 56,
     "metadata": {},
     "output_type": "execute_result"
    }
   ],
   "source": [
    "syns3=wordnet.synsets(\"program\")\n",
    "syns3"
   ]
  },
  {
   "cell_type": "code",
   "execution_count": 57,
   "id": "4d90da7d-9388-4320-a5c9-79f87e91ed95",
   "metadata": {},
   "outputs": [
    {
     "name": "stdout",
     "output_type": "stream",
     "text": [
      "plan.n.01\n",
      "plan\n",
      "a series of steps to be carried out or goals to be accomplished\n",
      "['they drew up a six-step plan', 'they discussed plans for a new bond issue']\n",
      "------------------------------------------------\n",
      "program.n.02\n",
      "program\n",
      "a system of projects or services intended to meet a public need\n",
      "['he proposed an elaborate program of public works', 'working mothers rely on the day care program']\n",
      "------------------------------------------------\n",
      "broadcast.n.02\n",
      "broadcast\n",
      "a radio or television show\n",
      "['did you see his program last night?']\n",
      "------------------------------------------------\n",
      "platform.n.02\n",
      "platform\n",
      "a document stating the aims and principles of a political party\n",
      "['their candidate simply ignored the party platform', 'they won the election even though they offered no positive program']\n",
      "------------------------------------------------\n",
      "program.n.05\n",
      "program\n",
      "an announcement of the events that will occur as part of a theatrical or sporting event\n",
      "[\"you can't tell the players without a program\"]\n",
      "------------------------------------------------\n",
      "course_of_study.n.01\n",
      "course_of_study\n",
      "an integrated course of academic studies\n",
      "['he was admitted to a new program at the university']\n",
      "------------------------------------------------\n",
      "program.n.07\n",
      "program\n",
      "(computer science) a sequence of instructions that a computer can interpret and execute\n",
      "['the program required several hundred lines of code']\n",
      "------------------------------------------------\n",
      "program.n.08\n",
      "program\n",
      "a performance (or series of performances) at a public presentation\n",
      "['the program lasted more than two hours']\n",
      "------------------------------------------------\n",
      "program.v.01\n",
      "program\n",
      "arrange a program of or for\n",
      "['program the 80th birthday party']\n",
      "------------------------------------------------\n",
      "program.v.02\n",
      "program\n",
      "write a computer program\n",
      "[]\n",
      "------------------------------------------------\n"
     ]
    }
   ],
   "source": [
    "for i in range (len(syns3)):\n",
    "    print(syns3[i].name())\n",
    "    print(syns3[i].lemmas()[0].name())\n",
    "    print(syns3[i].definition())\n",
    "    print(syns3[i].examples())\n",
    "    print(\"------------------------------------------------\")"
   ]
  },
  {
   "cell_type": "code",
   "execution_count": null,
   "id": "c748e869-636e-49da-9309-216f0fb8dfad",
   "metadata": {},
   "outputs": [],
   "source": []
  }
 ],
 "metadata": {
  "kernelspec": {
   "display_name": "Python 3 (ipykernel)",
   "language": "python",
   "name": "python3"
  },
  "language_info": {
   "codemirror_mode": {
    "name": "ipython",
    "version": 3
   },
   "file_extension": ".py",
   "mimetype": "text/x-python",
   "name": "python",
   "nbconvert_exporter": "python",
   "pygments_lexer": "ipython3",
   "version": "3.12.3"
  }
 },
 "nbformat": 4,
 "nbformat_minor": 5
}
