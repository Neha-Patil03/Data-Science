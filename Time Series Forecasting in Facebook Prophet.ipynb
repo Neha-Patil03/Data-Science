{
 "cells": [
  {
   "cell_type": "code",
   "execution_count": 31,
   "id": "c88b2e8e-5976-45a3-a61b-65dc11ae0702",
   "metadata": {},
   "outputs": [
    {
     "name": "stdout",
     "output_type": "stream",
     "text": [
      "Requirement already satisfied: prophet in c:\\users\\admin\\appdata\\local\\programs\\python\\python312\\lib\\site-packages (1.1.5)\n",
      "Requirement already satisfied: cmdstanpy>=1.0.4 in c:\\users\\admin\\appdata\\local\\programs\\python\\python312\\lib\\site-packages (from prophet) (1.2.4)\n",
      "Requirement already satisfied: numpy>=1.15.4 in c:\\users\\admin\\appdata\\local\\programs\\python\\python312\\lib\\site-packages (from prophet) (1.26.4)\n",
      "Requirement already satisfied: matplotlib>=2.0.0 in c:\\users\\admin\\appdata\\local\\programs\\python\\python312\\lib\\site-packages (from prophet) (3.8.4)\n",
      "Requirement already satisfied: pandas>=1.0.4 in c:\\users\\admin\\appdata\\local\\programs\\python\\python312\\lib\\site-packages (from prophet) (2.2.2)\n",
      "Requirement already satisfied: holidays>=0.25 in c:\\users\\admin\\appdata\\local\\programs\\python\\python312\\lib\\site-packages (from prophet) (0.53)\n",
      "Requirement already satisfied: tqdm>=4.36.1 in c:\\users\\admin\\appdata\\local\\programs\\python\\python312\\lib\\site-packages (from prophet) (4.66.4)\n",
      "Requirement already satisfied: importlib-resources in c:\\users\\admin\\appdata\\local\\programs\\python\\python312\\lib\\site-packages (from prophet) (6.4.0)\n",
      "Requirement already satisfied: stanio<2.0.0,>=0.4.0 in c:\\users\\admin\\appdata\\local\\programs\\python\\python312\\lib\\site-packages (from cmdstanpy>=1.0.4->prophet) (0.5.1)\n",
      "Requirement already satisfied: python-dateutil in c:\\users\\admin\\appdata\\local\\programs\\python\\python312\\lib\\site-packages (from holidays>=0.25->prophet) (2.9.0.post0)\n",
      "Requirement already satisfied: contourpy>=1.0.1 in c:\\users\\admin\\appdata\\local\\programs\\python\\python312\\lib\\site-packages (from matplotlib>=2.0.0->prophet) (1.2.1)\n",
      "Requirement already satisfied: cycler>=0.10 in c:\\users\\admin\\appdata\\local\\programs\\python\\python312\\lib\\site-packages (from matplotlib>=2.0.0->prophet) (0.12.1)\n",
      "Requirement already satisfied: fonttools>=4.22.0 in c:\\users\\admin\\appdata\\local\\programs\\python\\python312\\lib\\site-packages (from matplotlib>=2.0.0->prophet) (4.51.0)\n",
      "Requirement already satisfied: kiwisolver>=1.3.1 in c:\\users\\admin\\appdata\\local\\programs\\python\\python312\\lib\\site-packages (from matplotlib>=2.0.0->prophet) (1.4.5)\n",
      "Requirement already satisfied: packaging>=20.0 in c:\\users\\admin\\appdata\\local\\programs\\python\\python312\\lib\\site-packages (from matplotlib>=2.0.0->prophet) (24.0)\n",
      "Requirement already satisfied: pillow>=8 in c:\\users\\admin\\appdata\\local\\programs\\python\\python312\\lib\\site-packages (from matplotlib>=2.0.0->prophet) (10.3.0)\n",
      "Requirement already satisfied: pyparsing>=2.3.1 in c:\\users\\admin\\appdata\\local\\programs\\python\\python312\\lib\\site-packages (from matplotlib>=2.0.0->prophet) (3.1.2)\n",
      "Requirement already satisfied: pytz>=2020.1 in c:\\users\\admin\\appdata\\local\\programs\\python\\python312\\lib\\site-packages (from pandas>=1.0.4->prophet) (2024.1)\n",
      "Requirement already satisfied: tzdata>=2022.7 in c:\\users\\admin\\appdata\\local\\programs\\python\\python312\\lib\\site-packages (from pandas>=1.0.4->prophet) (2024.1)\n",
      "Requirement already satisfied: colorama in c:\\users\\admin\\appdata\\local\\programs\\python\\python312\\lib\\site-packages (from tqdm>=4.36.1->prophet) (0.4.6)\n",
      "Requirement already satisfied: six>=1.5 in c:\\users\\admin\\appdata\\local\\programs\\python\\python312\\lib\\site-packages (from python-dateutil->holidays>=0.25->prophet) (1.16.0)\n",
      "Note: you may need to restart the kernel to use updated packages.\n"
     ]
    },
    {
     "name": "stderr",
     "output_type": "stream",
     "text": [
      "\n",
      "[notice] A new release of pip is available: 24.0 -> 24.1.2\n",
      "[notice] To update, run: python.exe -m pip install --upgrade pip\n"
     ]
    }
   ],
   "source": [
    "pip install prophet"
   ]
  },
  {
   "cell_type": "code",
   "execution_count": 34,
   "id": "ce4d91af-4e13-450a-9e05-10910d5d1232",
   "metadata": {},
   "outputs": [],
   "source": [
    "import pandas as pd\n",
    "import numpy as np\n",
    "import matplotlib.pyplot as plt\n",
    "\n",
    "from prophet import Prophet\n",
    "from prophet.plot import plot_components_plotly, plot_plotly"
   ]
  },
  {
   "cell_type": "code",
   "execution_count": 35,
   "id": "cbb4d400-404a-406c-adad-754ece467184",
   "metadata": {},
   "outputs": [
    {
     "data": {
      "text/html": [
       "<div>\n",
       "<style scoped>\n",
       "    .dataframe tbody tr th:only-of-type {\n",
       "        vertical-align: middle;\n",
       "    }\n",
       "\n",
       "    .dataframe tbody tr th {\n",
       "        vertical-align: top;\n",
       "    }\n",
       "\n",
       "    .dataframe thead th {\n",
       "        text-align: right;\n",
       "    }\n",
       "</style>\n",
       "<table border=\"1\" class=\"dataframe\">\n",
       "  <thead>\n",
       "    <tr style=\"text-align: right;\">\n",
       "      <th></th>\n",
       "      <th>DATE</th>\n",
       "      <th>MinTemp</th>\n",
       "      <th>MaxTemp</th>\n",
       "      <th>AvgTemp</th>\n",
       "      <th>Sunrise</th>\n",
       "      <th>Sunset</th>\n",
       "    </tr>\n",
       "  </thead>\n",
       "  <tbody>\n",
       "    <tr>\n",
       "      <th>0</th>\n",
       "      <td>1/1/2014</td>\n",
       "      <td>33.0</td>\n",
       "      <td>46.0</td>\n",
       "      <td>40.0</td>\n",
       "      <td>657</td>\n",
       "      <td>1756</td>\n",
       "    </tr>\n",
       "    <tr>\n",
       "      <th>1</th>\n",
       "      <td>1/2/2014</td>\n",
       "      <td>35.0</td>\n",
       "      <td>50.0</td>\n",
       "      <td>43.0</td>\n",
       "      <td>657</td>\n",
       "      <td>1756</td>\n",
       "    </tr>\n",
       "    <tr>\n",
       "      <th>2</th>\n",
       "      <td>1/3/2014</td>\n",
       "      <td>36.0</td>\n",
       "      <td>45.0</td>\n",
       "      <td>41.0</td>\n",
       "      <td>657</td>\n",
       "      <td>1757</td>\n",
       "    </tr>\n",
       "    <tr>\n",
       "      <th>3</th>\n",
       "      <td>1/4/2014</td>\n",
       "      <td>32.0</td>\n",
       "      <td>41.0</td>\n",
       "      <td>37.0</td>\n",
       "      <td>658</td>\n",
       "      <td>1757</td>\n",
       "    </tr>\n",
       "    <tr>\n",
       "      <th>4</th>\n",
       "      <td>1/5/2014</td>\n",
       "      <td>24.0</td>\n",
       "      <td>38.0</td>\n",
       "      <td>31.0</td>\n",
       "      <td>658</td>\n",
       "      <td>1758</td>\n",
       "    </tr>\n",
       "  </tbody>\n",
       "</table>\n",
       "</div>"
      ],
      "text/plain": [
       "       DATE  MinTemp  MaxTemp  AvgTemp  Sunrise  Sunset\n",
       "0  1/1/2014     33.0     46.0     40.0      657    1756\n",
       "1  1/2/2014     35.0     50.0     43.0      657    1756\n",
       "2  1/3/2014     36.0     45.0     41.0      657    1757\n",
       "3  1/4/2014     32.0     41.0     37.0      658    1757\n",
       "4  1/5/2014     24.0     38.0     31.0      658    1758"
      ]
     },
     "execution_count": 35,
     "metadata": {},
     "output_type": "execute_result"
    }
   ],
   "source": [
    "df = pd.read_csv(\"Temperature Data.csv\")\n",
    "df.head()"
   ]
  },
  {
   "cell_type": "code",
   "execution_count": 36,
   "id": "4b42de10-4dc5-409c-88be-960bcb96787f",
   "metadata": {},
   "outputs": [],
   "source": [
    "df = df[[\"DATE\",\"AvgTemp\"]]"
   ]
  },
  {
   "cell_type": "code",
   "execution_count": 37,
   "id": "f5f5e037-cfad-4936-b804-61f80959f79a",
   "metadata": {},
   "outputs": [
    {
     "name": "stdout",
     "output_type": "stream",
     "text": [
      "<class 'pandas.core.frame.DataFrame'>\n",
      "RangeIndex: 1825 entries, 0 to 1824\n",
      "Data columns (total 2 columns):\n",
      " #   Column   Non-Null Count  Dtype  \n",
      "---  ------   --------------  -----  \n",
      " 0   DATE     1825 non-null   object \n",
      " 1   AvgTemp  1821 non-null   float64\n",
      "dtypes: float64(1), object(1)\n",
      "memory usage: 28.6+ KB\n"
     ]
    }
   ],
   "source": [
    "df.info()"
   ]
  },
  {
   "cell_type": "code",
   "execution_count": 38,
   "id": "1c9e7eb6-d013-44a7-9a1a-49f57bb6b404",
   "metadata": {},
   "outputs": [
    {
     "data": {
      "text/plain": [
       "46.81878088962109"
      ]
     },
     "execution_count": 38,
     "metadata": {},
     "output_type": "execute_result"
    }
   ],
   "source": [
    "avg_temp=df[\"AvgTemp\"].mean()\n",
    "avg_temp"
   ]
  },
  {
   "cell_type": "code",
   "execution_count": 39,
   "id": "bf478a06-38ff-424f-89bd-9cbc3fdd9120",
   "metadata": {},
   "outputs": [],
   "source": [
    "df.fillna(avg_temp,inplace=True)"
   ]
  },
  {
   "cell_type": "code",
   "execution_count": 40,
   "id": "5056bae6-e0ab-49fa-ab87-0e5e1b599a43",
   "metadata": {},
   "outputs": [
    {
     "name": "stdout",
     "output_type": "stream",
     "text": [
      "<class 'pandas.core.frame.DataFrame'>\n",
      "RangeIndex: 1825 entries, 0 to 1824\n",
      "Data columns (total 2 columns):\n",
      " #   Column   Non-Null Count  Dtype  \n",
      "---  ------   --------------  -----  \n",
      " 0   DATE     1825 non-null   object \n",
      " 1   AvgTemp  1825 non-null   float64\n",
      "dtypes: float64(1), object(1)\n",
      "memory usage: 28.6+ KB\n"
     ]
    }
   ],
   "source": [
    "df.info()"
   ]
  },
  {
   "cell_type": "code",
   "execution_count": 41,
   "id": "c8712c01-3d03-47d0-a5cd-f6221b53ab0a",
   "metadata": {},
   "outputs": [
    {
     "data": {
      "text/html": [
       "<div>\n",
       "<style scoped>\n",
       "    .dataframe tbody tr th:only-of-type {\n",
       "        vertical-align: middle;\n",
       "    }\n",
       "\n",
       "    .dataframe tbody tr th {\n",
       "        vertical-align: top;\n",
       "    }\n",
       "\n",
       "    .dataframe thead th {\n",
       "        text-align: right;\n",
       "    }\n",
       "</style>\n",
       "<table border=\"1\" class=\"dataframe\">\n",
       "  <thead>\n",
       "    <tr style=\"text-align: right;\">\n",
       "      <th></th>\n",
       "      <th>DATE</th>\n",
       "      <th>AvgTemp</th>\n",
       "    </tr>\n",
       "  </thead>\n",
       "  <tbody>\n",
       "    <tr>\n",
       "      <th>0</th>\n",
       "      <td>2014-01-01</td>\n",
       "      <td>40.0</td>\n",
       "    </tr>\n",
       "    <tr>\n",
       "      <th>1</th>\n",
       "      <td>2014-01-02</td>\n",
       "      <td>43.0</td>\n",
       "    </tr>\n",
       "    <tr>\n",
       "      <th>2</th>\n",
       "      <td>2014-01-03</td>\n",
       "      <td>41.0</td>\n",
       "    </tr>\n",
       "    <tr>\n",
       "      <th>3</th>\n",
       "      <td>2014-01-04</td>\n",
       "      <td>37.0</td>\n",
       "    </tr>\n",
       "    <tr>\n",
       "      <th>4</th>\n",
       "      <td>2014-01-05</td>\n",
       "      <td>31.0</td>\n",
       "    </tr>\n",
       "  </tbody>\n",
       "</table>\n",
       "</div>"
      ],
      "text/plain": [
       "        DATE  AvgTemp\n",
       "0 2014-01-01     40.0\n",
       "1 2014-01-02     43.0\n",
       "2 2014-01-03     41.0\n",
       "3 2014-01-04     37.0\n",
       "4 2014-01-05     31.0"
      ]
     },
     "execution_count": 41,
     "metadata": {},
     "output_type": "execute_result"
    }
   ],
   "source": [
    "df[\"DATE\"]=pd.to_datetime(df[\"DATE\"])\n",
    "df.head()"
   ]
  },
  {
   "cell_type": "code",
   "execution_count": 42,
   "id": "b4a9bbeb-5c76-46c0-aa66-35c4caef2726",
   "metadata": {},
   "outputs": [
    {
     "data": {
      "text/html": [
       "<div>\n",
       "<style scoped>\n",
       "    .dataframe tbody tr th:only-of-type {\n",
       "        vertical-align: middle;\n",
       "    }\n",
       "\n",
       "    .dataframe tbody tr th {\n",
       "        vertical-align: top;\n",
       "    }\n",
       "\n",
       "    .dataframe thead th {\n",
       "        text-align: right;\n",
       "    }\n",
       "</style>\n",
       "<table border=\"1\" class=\"dataframe\">\n",
       "  <thead>\n",
       "    <tr style=\"text-align: right;\">\n",
       "      <th></th>\n",
       "      <th>ds</th>\n",
       "      <th>y</th>\n",
       "    </tr>\n",
       "  </thead>\n",
       "  <tbody>\n",
       "    <tr>\n",
       "      <th>0</th>\n",
       "      <td>2014-01-01</td>\n",
       "      <td>40.0</td>\n",
       "    </tr>\n",
       "    <tr>\n",
       "      <th>1</th>\n",
       "      <td>2014-01-02</td>\n",
       "      <td>43.0</td>\n",
       "    </tr>\n",
       "    <tr>\n",
       "      <th>2</th>\n",
       "      <td>2014-01-03</td>\n",
       "      <td>41.0</td>\n",
       "    </tr>\n",
       "    <tr>\n",
       "      <th>3</th>\n",
       "      <td>2014-01-04</td>\n",
       "      <td>37.0</td>\n",
       "    </tr>\n",
       "    <tr>\n",
       "      <th>4</th>\n",
       "      <td>2014-01-05</td>\n",
       "      <td>31.0</td>\n",
       "    </tr>\n",
       "  </tbody>\n",
       "</table>\n",
       "</div>"
      ],
      "text/plain": [
       "          ds     y\n",
       "0 2014-01-01  40.0\n",
       "1 2014-01-02  43.0\n",
       "2 2014-01-03  41.0\n",
       "3 2014-01-04  37.0\n",
       "4 2014-01-05  31.0"
      ]
     },
     "execution_count": 42,
     "metadata": {},
     "output_type": "execute_result"
    }
   ],
   "source": [
    "df.columns = [\"ds\",\"y\"]\n",
    "df.head()"
   ]
  },
  {
   "cell_type": "code",
   "execution_count": 43,
   "id": "4ec25bbf-915d-4a30-9a44-b6309a3521bb",
   "metadata": {},
   "outputs": [
    {
     "data": {
      "image/png": "[encoded data removed]",
      "text/plain": [
       "<Figure size 1200x400 with 1 Axes>"
      ]
     },
     "metadata": {},
     "output_type": "display_data"
    }
   ],
   "source": [
    "df.plot(x=\"ds\",y=\"y\",figsize=(12,4),title=\"Average Temperature\")\n",
    "plt.show()"
   ]
  },
  {
   "cell_type": "code",
   "execution_count": 44,
   "id": "9c6565ec-1ffa-4fea-ae02-5f2a450983a1",
   "metadata": {},
   "outputs": [],
   "source": [
    "train = df.iloc[:len(df)-365]\n",
    "test = df.iloc[len(df)-365:]"
   ]
  },
  {
   "cell_type": "code",
   "execution_count": 45,
   "id": "e9d5e6b1-1ec8-4d2d-b7ac-def97faff70b",
   "metadata": {},
   "outputs": [
    {
     "data": {
      "text/plain": [
       "1460"
      ]
     },
     "execution_count": 45,
     "metadata": {},
     "output_type": "execute_result"
    }
   ],
   "source": [
    "len(train)"
   ]
  },
  {
   "cell_type": "code",
   "execution_count": 46,
   "id": "d24a4c7a-91ca-449e-bea6-08354eded9be",
   "metadata": {},
   "outputs": [
    {
     "data": {
      "text/plain": [
       "365"
      ]
     },
     "execution_count": 46,
     "metadata": {},
     "output_type": "execute_result"
    }
   ],
   "source": [
    "len(test)"
   ]
  },
  {
   "cell_type": "code",
   "execution_count": 47,
   "id": "7bc660fb-0c89-4be8-a483-147e038d6759",
   "metadata": {},
   "outputs": [],
   "source": [
    "model = Prophet()"
   ]
  },
  {
   "cell_type": "code",
   "execution_count": 48,
   "id": "4b5c090e-40c9-4419-8262-12c81c5e2511",
   "metadata": {},
   "outputs": [
    {
     "name": "stderr",
     "output_type": "stream",
     "text": [
      "12:08:43 - cmdstanpy - INFO - Chain [1] start processing\n",
      "12:08:43 - cmdstanpy - INFO - Chain [1] done processing\n"
     ]
    },
    {
     "data": {
      "text/plain": [
       "<prophet.forecaster.Prophet at 0x1c86ff84680>"
      ]
     },
     "execution_count": 48,
     "metadata": {},
     "output_type": "execute_result"
    }
   ],
   "source": [
    "model.fit(train)"
   ]
  },
  {
   "cell_type": "code",
   "execution_count": 49,
   "id": "db5cdb10-d35e-478a-adfe-fc5eab4da2ce",
   "metadata": {},
   "outputs": [
    {
     "data": {
      "text/html": [
       "<div>\n",
       "<style scoped>\n",
       "    .dataframe tbody tr th:only-of-type {\n",
       "        vertical-align: middle;\n",
       "    }\n",
       "\n",
       "    .dataframe tbody tr th {\n",
       "        vertical-align: top;\n",
       "    }\n",
       "\n",
       "    .dataframe thead th {\n",
       "        text-align: right;\n",
       "    }\n",
       "</style>\n",
       "<table border=\"1\" class=\"dataframe\">\n",
       "  <thead>\n",
       "    <tr style=\"text-align: right;\">\n",
       "      <th></th>\n",
       "      <th>ds</th>\n",
       "      <th>y</th>\n",
       "    </tr>\n",
       "  </thead>\n",
       "  <tbody>\n",
       "    <tr>\n",
       "      <th>1455</th>\n",
       "      <td>2017-12-26</td>\n",
       "      <td>44.0</td>\n",
       "    </tr>\n",
       "    <tr>\n",
       "      <th>1456</th>\n",
       "      <td>2017-12-27</td>\n",
       "      <td>45.0</td>\n",
       "    </tr>\n",
       "    <tr>\n",
       "      <th>1457</th>\n",
       "      <td>2017-12-28</td>\n",
       "      <td>43.0</td>\n",
       "    </tr>\n",
       "    <tr>\n",
       "      <th>1458</th>\n",
       "      <td>2017-12-29</td>\n",
       "      <td>43.0</td>\n",
       "    </tr>\n",
       "    <tr>\n",
       "      <th>1459</th>\n",
       "      <td>2017-12-30</td>\n",
       "      <td>44.0</td>\n",
       "    </tr>\n",
       "  </tbody>\n",
       "</table>\n",
       "</div>"
      ],
      "text/plain": [
       "             ds     y\n",
       "1455 2017-12-26  44.0\n",
       "1456 2017-12-27  45.0\n",
       "1457 2017-12-28  43.0\n",
       "1458 2017-12-29  43.0\n",
       "1459 2017-12-30  44.0"
      ]
     },
     "execution_count": 49,
     "metadata": {},
     "output_type": "execute_result"
    }
   ],
   "source": [
    "train.tail()"
   ]
  },
  {
   "cell_type": "code",
   "execution_count": 50,
   "id": "293f3dab-f384-4df4-9fd9-c77d04864040",
   "metadata": {},
   "outputs": [],
   "source": [
    "future_dates = model.make_future_dataframe(periods=365)"
   ]
  },
  {
   "cell_type": "code",
   "execution_count": 51,
   "id": "b67c0a1a-8d2b-474f-a717-dbad3fe10f76",
   "metadata": {},
   "outputs": [],
   "source": [
    "forecast = model.predict(future_dates)"
   ]
  },
  {
   "cell_type": "code",
   "execution_count": 52,
   "id": "4c700d02-b033-47f4-bc83-eaa1bb205a8e",
   "metadata": {},
   "outputs": [
    {
     "data": {
      "text/html": [
       "<div>\n",
       "<style scoped>\n",
       "    .dataframe tbody tr th:only-of-type {\n",
       "        vertical-align: middle;\n",
       "    }\n",
       "\n",
       "    .dataframe tbody tr th {\n",
       "        vertical-align: top;\n",
       "    }\n",
       "\n",
       "    .dataframe thead th {\n",
       "        text-align: right;\n",
       "    }\n",
       "</style>\n",
       "<table border=\"1\" class=\"dataframe\">\n",
       "  <thead>\n",
       "    <tr style=\"text-align: right;\">\n",
       "      <th></th>\n",
       "      <th>ds</th>\n",
       "      <th>trend</th>\n",
       "      <th>yhat_lower</th>\n",
       "      <th>yhat_upper</th>\n",
       "      <th>trend_lower</th>\n",
       "      <th>trend_upper</th>\n",
       "      <th>additive_terms</th>\n",
       "      <th>additive_terms_lower</th>\n",
       "      <th>additive_terms_upper</th>\n",
       "      <th>weekly</th>\n",
       "      <th>weekly_lower</th>\n",
       "      <th>weekly_upper</th>\n",
       "      <th>yearly</th>\n",
       "      <th>yearly_lower</th>\n",
       "      <th>yearly_upper</th>\n",
       "      <th>multiplicative_terms</th>\n",
       "      <th>multiplicative_terms_lower</th>\n",
       "      <th>multiplicative_terms_upper</th>\n",
       "      <th>yhat</th>\n",
       "    </tr>\n",
       "  </thead>\n",
       "  <tbody>\n",
       "    <tr>\n",
       "      <th>1820</th>\n",
       "      <td>2018-12-26</td>\n",
       "      <td>46.268723</td>\n",
       "      <td>37.104996</td>\n",
       "      <td>45.931651</td>\n",
       "      <td>44.767639</td>\n",
       "      <td>47.925809</td>\n",
       "      <td>-4.887708</td>\n",
       "      <td>-4.887708</td>\n",
       "      <td>-4.887708</td>\n",
       "      <td>-0.059834</td>\n",
       "      <td>-0.059834</td>\n",
       "      <td>-0.059834</td>\n",
       "      <td>-4.827874</td>\n",
       "      <td>-4.827874</td>\n",
       "      <td>-4.827874</td>\n",
       "      <td>0.0</td>\n",
       "      <td>0.0</td>\n",
       "      <td>0.0</td>\n",
       "      <td>41.381015</td>\n",
       "    </tr>\n",
       "    <tr>\n",
       "      <th>1821</th>\n",
       "      <td>2018-12-27</td>\n",
       "      <td>46.268103</td>\n",
       "      <td>37.022690</td>\n",
       "      <td>46.218776</td>\n",
       "      <td>44.761962</td>\n",
       "      <td>47.922958</td>\n",
       "      <td>-4.747623</td>\n",
       "      <td>-4.747623</td>\n",
       "      <td>-4.747623</td>\n",
       "      <td>0.097827</td>\n",
       "      <td>0.097827</td>\n",
       "      <td>0.097827</td>\n",
       "      <td>-4.845449</td>\n",
       "      <td>-4.845449</td>\n",
       "      <td>-4.845449</td>\n",
       "      <td>0.0</td>\n",
       "      <td>0.0</td>\n",
       "      <td>0.0</td>\n",
       "      <td>41.520480</td>\n",
       "    </tr>\n",
       "    <tr>\n",
       "      <th>1822</th>\n",
       "      <td>2018-12-28</td>\n",
       "      <td>46.267483</td>\n",
       "      <td>37.673219</td>\n",
       "      <td>46.369919</td>\n",
       "      <td>44.756284</td>\n",
       "      <td>47.921173</td>\n",
       "      <td>-4.408644</td>\n",
       "      <td>-4.408644</td>\n",
       "      <td>-4.408644</td>\n",
       "      <td>0.425980</td>\n",
       "      <td>0.425980</td>\n",
       "      <td>0.425980</td>\n",
       "      <td>-4.834623</td>\n",
       "      <td>-4.834623</td>\n",
       "      <td>-4.834623</td>\n",
       "      <td>0.0</td>\n",
       "      <td>0.0</td>\n",
       "      <td>0.0</td>\n",
       "      <td>41.858839</td>\n",
       "    </tr>\n",
       "    <tr>\n",
       "      <th>1823</th>\n",
       "      <td>2018-12-29</td>\n",
       "      <td>46.266863</td>\n",
       "      <td>36.914553</td>\n",
       "      <td>46.217638</td>\n",
       "      <td>44.750606</td>\n",
       "      <td>47.924991</td>\n",
       "      <td>-4.788772</td>\n",
       "      <td>-4.788772</td>\n",
       "      <td>-4.788772</td>\n",
       "      <td>0.006752</td>\n",
       "      <td>0.006752</td>\n",
       "      <td>0.006752</td>\n",
       "      <td>-4.795524</td>\n",
       "      <td>-4.795524</td>\n",
       "      <td>-4.795524</td>\n",
       "      <td>0.0</td>\n",
       "      <td>0.0</td>\n",
       "      <td>0.0</td>\n",
       "      <td>41.478091</td>\n",
       "    </tr>\n",
       "    <tr>\n",
       "      <th>1824</th>\n",
       "      <td>2018-12-30</td>\n",
       "      <td>46.266242</td>\n",
       "      <td>36.934257</td>\n",
       "      <td>45.580810</td>\n",
       "      <td>44.744928</td>\n",
       "      <td>47.929470</td>\n",
       "      <td>-4.969109</td>\n",
       "      <td>-4.969109</td>\n",
       "      <td>-4.969109</td>\n",
       "      <td>-0.240352</td>\n",
       "      <td>-0.240352</td>\n",
       "      <td>-0.240352</td>\n",
       "      <td>-4.728758</td>\n",
       "      <td>-4.728758</td>\n",
       "      <td>-4.728758</td>\n",
       "      <td>0.0</td>\n",
       "      <td>0.0</td>\n",
       "      <td>0.0</td>\n",
       "      <td>41.297133</td>\n",
       "    </tr>\n",
       "  </tbody>\n",
       "</table>\n",
       "</div>"
      ],
      "text/plain": [
       "             ds      trend  yhat_lower  yhat_upper  trend_lower  trend_upper  \\\n",
       "1820 2018-12-26  46.268723   37.104996   45.931651    44.767639    47.925809   \n",
       "1821 2018-12-27  46.268103   37.022690   46.218776    44.761962    47.922958   \n",
       "1822 2018-12-28  46.267483   37.673219   46.369919    44.756284    47.921173   \n",
       "1823 2018-12-29  46.266863   36.914553   46.217638    44.750606    47.924991   \n",
       "1824 2018-12-30  46.266242   36.934257   45.580810    44.744928    47.929470   \n",
       "\n",
       "      additive_terms  additive_terms_lower  additive_terms_upper    weekly  \\\n",
       "1820       -4.887708             -4.887708             -4.887708 -0.059834   \n",
       "1821       -4.747623             -4.747623             -4.747623  0.097827   \n",
       "1822       -4.408644             -4.408644             -4.408644  0.425980   \n",
       "1823       -4.788772             -4.788772             -4.788772  0.006752   \n",
       "1824       -4.969109             -4.969109             -4.969109 -0.240352   \n",
       "\n",
       "      weekly_lower  weekly_upper    yearly  yearly_lower  yearly_upper  \\\n",
       "1820     -0.059834     -0.059834 -4.827874     -4.827874     -4.827874   \n",
       "1821      0.097827      0.097827 -4.845449     -4.845449     -4.845449   \n",
       "1822      0.425980      0.425980 -4.834623     -4.834623     -4.834623   \n",
       "1823      0.006752      0.006752 -4.795524     -4.795524     -4.795524   \n",
       "1824     -0.240352     -0.240352 -4.728758     -4.728758     -4.728758   \n",
       "\n",
       "      multiplicative_terms  multiplicative_terms_lower  \\\n",
       "1820                   0.0                         0.0   \n",
       "1821                   0.0                         0.0   \n",
       "1822                   0.0                         0.0   \n",
       "1823                   0.0                         0.0   \n",
       "1824                   0.0                         0.0   \n",
       "\n",
       "      multiplicative_terms_upper       yhat  \n",
       "1820                         0.0  41.381015  \n",
       "1821                         0.0  41.520480  \n",
       "1822                         0.0  41.858839  \n",
       "1823                         0.0  41.478091  \n",
       "1824                         0.0  41.297133  "
      ]
     },
     "execution_count": 52,
     "metadata": {},
     "output_type": "execute_result"
    }
   ],
   "source": [
    "forecast.tail()"
   ]
  },
  {
   "cell_type": "code",
   "execution_count": 60,
   "id": "8c6f8536-cfc7-412d-945e-b9abd1dbf58a",
   "metadata": {},
   "outputs": [
    {
     "data": {
      "text/html": [
       "<div>\n",
       "<style scoped>\n",
       "    .dataframe tbody tr th:only-of-type {\n",
       "        vertical-align: middle;\n",
       "    }\n",
       "\n",
       "    .dataframe tbody tr th {\n",
       "        vertical-align: top;\n",
       "    }\n",
       "\n",
       "    .dataframe thead th {\n",
       "        text-align: right;\n",
       "    }\n",
       "</style>\n",
       "<table border=\"1\" class=\"dataframe\">\n",
       "  <thead>\n",
       "    <tr style=\"text-align: right;\">\n",
       "      <th></th>\n",
       "      <th>ds</th>\n",
       "      <th>yhat</th>\n",
       "      <th>yhat_lower</th>\n",
       "      <th>yhat_upper</th>\n",
       "    </tr>\n",
       "  </thead>\n",
       "  <tbody>\n",
       "    <tr>\n",
       "      <th>0</th>\n",
       "      <td>2014-01-01</td>\n",
       "      <td>39.254749</td>\n",
       "      <td>35.343286</td>\n",
       "      <td>43.098200</td>\n",
       "    </tr>\n",
       "    <tr>\n",
       "      <th>1</th>\n",
       "      <td>2014-01-02</td>\n",
       "      <td>39.574747</td>\n",
       "      <td>35.137180</td>\n",
       "      <td>44.124110</td>\n",
       "    </tr>\n",
       "    <tr>\n",
       "      <th>2</th>\n",
       "      <td>2014-01-03</td>\n",
       "      <td>40.085611</td>\n",
       "      <td>35.837634</td>\n",
       "      <td>44.302595</td>\n",
       "    </tr>\n",
       "    <tr>\n",
       "      <th>3</th>\n",
       "      <td>2014-01-04</td>\n",
       "      <td>39.866874</td>\n",
       "      <td>35.690717</td>\n",
       "      <td>44.280543</td>\n",
       "    </tr>\n",
       "    <tr>\n",
       "      <th>4</th>\n",
       "      <td>2014-01-05</td>\n",
       "      <td>39.835220</td>\n",
       "      <td>35.521994</td>\n",
       "      <td>44.079278</td>\n",
       "    </tr>\n",
       "    <tr>\n",
       "      <th>...</th>\n",
       "      <td>...</td>\n",
       "      <td>...</td>\n",
       "      <td>...</td>\n",
       "      <td>...</td>\n",
       "    </tr>\n",
       "    <tr>\n",
       "      <th>1820</th>\n",
       "      <td>2018-12-26</td>\n",
       "      <td>41.381015</td>\n",
       "      <td>37.104996</td>\n",
       "      <td>45.931651</td>\n",
       "    </tr>\n",
       "    <tr>\n",
       "      <th>1821</th>\n",
       "      <td>2018-12-27</td>\n",
       "      <td>41.520480</td>\n",
       "      <td>37.022690</td>\n",
       "      <td>46.218776</td>\n",
       "    </tr>\n",
       "    <tr>\n",
       "      <th>1822</th>\n",
       "      <td>2018-12-28</td>\n",
       "      <td>41.858839</td>\n",
       "      <td>37.673219</td>\n",
       "      <td>46.369919</td>\n",
       "    </tr>\n",
       "    <tr>\n",
       "      <th>1823</th>\n",
       "      <td>2018-12-29</td>\n",
       "      <td>41.478091</td>\n",
       "      <td>36.914553</td>\n",
       "      <td>46.217638</td>\n",
       "    </tr>\n",
       "    <tr>\n",
       "      <th>1824</th>\n",
       "      <td>2018-12-30</td>\n",
       "      <td>41.297133</td>\n",
       "      <td>36.934257</td>\n",
       "      <td>45.580810</td>\n",
       "    </tr>\n",
       "  </tbody>\n",
       "</table>\n",
       "<p>1825 rows × 4 columns</p>\n",
       "</div>"
      ],
      "text/plain": [
       "             ds       yhat  yhat_lower  yhat_upper\n",
       "0    2014-01-01  39.254749   35.343286   43.098200\n",
       "1    2014-01-02  39.574747   35.137180   44.124110\n",
       "2    2014-01-03  40.085611   35.837634   44.302595\n",
       "3    2014-01-04  39.866874   35.690717   44.280543\n",
       "4    2014-01-05  39.835220   35.521994   44.079278\n",
       "...         ...        ...         ...         ...\n",
       "1820 2018-12-26  41.381015   37.104996   45.931651\n",
       "1821 2018-12-27  41.520480   37.022690   46.218776\n",
       "1822 2018-12-28  41.858839   37.673219   46.369919\n",
       "1823 2018-12-29  41.478091   36.914553   46.217638\n",
       "1824 2018-12-30  41.297133   36.934257   45.580810\n",
       "\n",
       "[1825 rows x 4 columns]"
      ]
     },
     "execution_count": 60,
     "metadata": {},
     "output_type": "execute_result"
    }
   ],
   "source": [
    "forecast[[\"ds\",\"yhat\",\"yhat_lower\",\"yhat_upper\"]]"
   ]
  },
  {
   "cell_type": "code",
   "execution_count": 61,
   "id": "7f3372e9-af1e-494c-8bbc-728473018e72",
   "metadata": {},
   "outputs": [
    {
     "ename": "NameError",
     "evalue": "name 'go' is not defined",
     "output_type": "error",
     "traceback": [
      "\u001b[1;31m---------------------------------------------------------------------------\u001b[0m",
      "\u001b[1;31mNameError\u001b[0m                                 Traceback (most recent call last)",
      "Cell \u001b[1;32mIn[61], line 1\u001b[0m\n\u001b[1;32m----> 1\u001b[0m \u001b[43mplot_plotly\u001b[49m\u001b[43m(\u001b[49m\u001b[43mmodel\u001b[49m\u001b[43m,\u001b[49m\u001b[43mforecast\u001b[49m\u001b[43m)\u001b[49m\n",
      "File \u001b[1;32m~\\AppData\\Local\\Programs\\Python\\Python312\\Lib\\site-packages\\prophet\\plot.py:597\u001b[0m, in \u001b[0;36mplot_plotly\u001b[1;34m(m, fcst, uncertainty, plot_cap, trend, changepoints, changepoints_threshold, xlabel, ylabel, figsize)\u001b[0m\n\u001b[0;32m    595\u001b[0m data \u001b[38;5;241m=\u001b[39m []\n\u001b[0;32m    596\u001b[0m \u001b[38;5;66;03m# Add actual\u001b[39;00m\n\u001b[1;32m--> 597\u001b[0m data\u001b[38;5;241m.\u001b[39mappend(\u001b[43mgo\u001b[49m\u001b[38;5;241m.\u001b[39mScatter(\n\u001b[0;32m    598\u001b[0m     name\u001b[38;5;241m=\u001b[39m\u001b[38;5;124m'\u001b[39m\u001b[38;5;124mActual\u001b[39m\u001b[38;5;124m'\u001b[39m,\n\u001b[0;32m    599\u001b[0m     x\u001b[38;5;241m=\u001b[39mm\u001b[38;5;241m.\u001b[39mhistory[\u001b[38;5;124m'\u001b[39m\u001b[38;5;124mds\u001b[39m\u001b[38;5;124m'\u001b[39m],\n\u001b[0;32m    600\u001b[0m     y\u001b[38;5;241m=\u001b[39mm\u001b[38;5;241m.\u001b[39mhistory[\u001b[38;5;124m'\u001b[39m\u001b[38;5;124my\u001b[39m\u001b[38;5;124m'\u001b[39m],\n\u001b[0;32m    601\u001b[0m     marker\u001b[38;5;241m=\u001b[39m\u001b[38;5;28mdict\u001b[39m(color\u001b[38;5;241m=\u001b[39mactual_color, size\u001b[38;5;241m=\u001b[39mmarker_size),\n\u001b[0;32m    602\u001b[0m     mode\u001b[38;5;241m=\u001b[39m\u001b[38;5;124m'\u001b[39m\u001b[38;5;124mmarkers\u001b[39m\u001b[38;5;124m'\u001b[39m\n\u001b[0;32m    603\u001b[0m ))\n\u001b[0;32m    604\u001b[0m \u001b[38;5;66;03m# Add lower bound\u001b[39;00m\n\u001b[0;32m    605\u001b[0m \u001b[38;5;28;01mif\u001b[39;00m uncertainty \u001b[38;5;129;01mand\u001b[39;00m m\u001b[38;5;241m.\u001b[39muncertainty_samples:\n",
      "\u001b[1;31mNameError\u001b[0m: name 'go' is not defined"
     ]
    }
   ],
   "source": [
    "plot_plotly(model,forecast)"
   ]
  },
  {
   "cell_type": "code",
   "execution_count": 62,
   "id": "bd8f2e1a-0a0f-4a9d-9cdb-e99c2e7a2ce3",
   "metadata": {},
   "outputs": [
    {
     "ename": "NameError",
     "evalue": "name 'go' is not defined",
     "output_type": "error",
     "traceback": [
      "\u001b[1;31m---------------------------------------------------------------------------\u001b[0m",
      "\u001b[1;31mNameError\u001b[0m                                 Traceback (most recent call last)",
      "Cell \u001b[1;32mIn[62], line 1\u001b[0m\n\u001b[1;32m----> 1\u001b[0m \u001b[43mplot_components_plotly\u001b[49m\u001b[43m(\u001b[49m\u001b[43mmodel\u001b[49m\u001b[43m,\u001b[49m\u001b[43mforecast\u001b[49m\u001b[43m)\u001b[49m\n",
      "File \u001b[1;32m~\\AppData\\Local\\Programs\\Python\\Python312\\Lib\\site-packages\\prophet\\plot.py:740\u001b[0m, in \u001b[0;36mplot_components_plotly\u001b[1;34m(m, fcst, uncertainty, plot_cap, figsize)\u001b[0m\n\u001b[0;32m    738\u001b[0m \u001b[38;5;66;03m# Identify components to plot and get their Plotly props\u001b[39;00m\n\u001b[0;32m    739\u001b[0m components \u001b[38;5;241m=\u001b[39m {}\n\u001b[1;32m--> 740\u001b[0m components[\u001b[38;5;124m'\u001b[39m\u001b[38;5;124mtrend\u001b[39m\u001b[38;5;124m'\u001b[39m] \u001b[38;5;241m=\u001b[39m \u001b[43mget_forecast_component_plotly_props\u001b[49m\u001b[43m(\u001b[49m\n\u001b[0;32m    741\u001b[0m \u001b[43m    \u001b[49m\u001b[43mm\u001b[49m\u001b[43m,\u001b[49m\u001b[43m \u001b[49m\u001b[43mfcst\u001b[49m\u001b[43m,\u001b[49m\u001b[43m \u001b[49m\u001b[38;5;124;43m'\u001b[39;49m\u001b[38;5;124;43mtrend\u001b[39;49m\u001b[38;5;124;43m'\u001b[39;49m\u001b[43m,\u001b[49m\u001b[43m \u001b[49m\u001b[43muncertainty\u001b[49m\u001b[43m,\u001b[49m\u001b[43m \u001b[49m\u001b[43mplot_cap\u001b[49m\u001b[43m)\u001b[49m\n\u001b[0;32m    742\u001b[0m \u001b[38;5;28;01mif\u001b[39;00m m\u001b[38;5;241m.\u001b[39mtrain_holiday_names \u001b[38;5;129;01mis\u001b[39;00m \u001b[38;5;129;01mnot\u001b[39;00m \u001b[38;5;28;01mNone\u001b[39;00m \u001b[38;5;129;01mand\u001b[39;00m \u001b[38;5;124m'\u001b[39m\u001b[38;5;124mholidays\u001b[39m\u001b[38;5;124m'\u001b[39m \u001b[38;5;129;01min\u001b[39;00m fcst:\n\u001b[0;32m    743\u001b[0m     components[\u001b[38;5;124m'\u001b[39m\u001b[38;5;124mholidays\u001b[39m\u001b[38;5;124m'\u001b[39m] \u001b[38;5;241m=\u001b[39m get_forecast_component_plotly_props(\n\u001b[0;32m    744\u001b[0m         m, fcst, \u001b[38;5;124m'\u001b[39m\u001b[38;5;124mholidays\u001b[39m\u001b[38;5;124m'\u001b[39m, uncertainty)\n",
      "File \u001b[1;32m~\\AppData\\Local\\Programs\\Python\\Python312\\Lib\\site-packages\\prophet\\plot.py:877\u001b[0m, in \u001b[0;36mget_forecast_component_plotly_props\u001b[1;34m(m, fcst, name, uncertainty, plot_cap)\u001b[0m\n\u001b[0;32m    874\u001b[0m         text[idxs\u001b[38;5;241m.\u001b[39mastype(\u001b[38;5;28mbool\u001b[39m)] \u001b[38;5;241m+\u001b[39m\u001b[38;5;241m=\u001b[39m holiday_feature\n\u001b[0;32m    876\u001b[0m traces \u001b[38;5;241m=\u001b[39m []\n\u001b[1;32m--> 877\u001b[0m traces\u001b[38;5;241m.\u001b[39mappend(\u001b[43mgo\u001b[49m\u001b[38;5;241m.\u001b[39mScatter(\n\u001b[0;32m    878\u001b[0m     name\u001b[38;5;241m=\u001b[39mname,\n\u001b[0;32m    879\u001b[0m     x\u001b[38;5;241m=\u001b[39mfcst[\u001b[38;5;124m'\u001b[39m\u001b[38;5;124mds\u001b[39m\u001b[38;5;124m'\u001b[39m],\n\u001b[0;32m    880\u001b[0m     y\u001b[38;5;241m=\u001b[39mfcst[name],\n\u001b[0;32m    881\u001b[0m     mode\u001b[38;5;241m=\u001b[39mmode,\n\u001b[0;32m    882\u001b[0m     line\u001b[38;5;241m=\u001b[39mgo\u001b[38;5;241m.\u001b[39mscatter\u001b[38;5;241m.\u001b[39mLine(color\u001b[38;5;241m=\u001b[39mprediction_color, width\u001b[38;5;241m=\u001b[39mline_width),\n\u001b[0;32m    883\u001b[0m     text\u001b[38;5;241m=\u001b[39mtext,\n\u001b[0;32m    884\u001b[0m ))\n\u001b[0;32m    885\u001b[0m \u001b[38;5;28;01mif\u001b[39;00m uncertainty \u001b[38;5;129;01mand\u001b[39;00m m\u001b[38;5;241m.\u001b[39muncertainty_samples \u001b[38;5;129;01mand\u001b[39;00m (fcst[name \u001b[38;5;241m+\u001b[39m \u001b[38;5;124m'\u001b[39m\u001b[38;5;124m_upper\u001b[39m\u001b[38;5;124m'\u001b[39m] \u001b[38;5;241m!=\u001b[39m fcst[name \u001b[38;5;241m+\u001b[39m \u001b[38;5;124m'\u001b[39m\u001b[38;5;124m_lower\u001b[39m\u001b[38;5;124m'\u001b[39m])\u001b[38;5;241m.\u001b[39many():\n\u001b[0;32m    886\u001b[0m     \u001b[38;5;28;01mif\u001b[39;00m mode \u001b[38;5;241m==\u001b[39m \u001b[38;5;124m'\u001b[39m\u001b[38;5;124mmarkers\u001b[39m\u001b[38;5;124m'\u001b[39m:\n",
      "\u001b[1;31mNameError\u001b[0m: name 'go' is not defined"
     ]
    }
   ],
   "source": [
    "plot_components_plotly(model,forecast)"
   ]
  },
  {
   "cell_type": "code",
   "execution_count": 56,
   "id": "5ac22587-e71d-45e7-ae94-737a7990e068",
   "metadata": {},
   "outputs": [],
   "source": [
    "from sklearn.metrics import mean_squared_error"
   ]
  },
  {
   "cell_type": "code",
   "execution_count": 57,
   "id": "45df7d29-08bd-430f-9e8a-e16886fd3434",
   "metadata": {},
   "outputs": [
    {
     "data": {
      "text/plain": [
       "1460    41.643579\n",
       "1461    41.924529\n",
       "1462    42.007196\n",
       "1463    42.261397\n",
       "1464    42.603750\n",
       "          ...    \n",
       "1820    41.381015\n",
       "1821    41.520480\n",
       "1822    41.858839\n",
       "1823    41.478091\n",
       "1824    41.297133\n",
       "Name: yhat, Length: 365, dtype: float64"
      ]
     },
     "execution_count": 57,
     "metadata": {},
     "output_type": "execute_result"
    }
   ],
   "source": [
    "pred = forecast.iloc[-365:][\"yhat\"]\n",
    "pred"
   ]
  },
  {
   "cell_type": "code",
   "execution_count": 58,
   "id": "5f9b938a-930b-43c1-be39-3e4793ecba41",
   "metadata": {},
   "outputs": [
    {
     "data": {
      "text/plain": [
       "3.458617763904657"
      ]
     },
     "execution_count": 58,
     "metadata": {},
     "output_type": "execute_result"
    }
   ],
   "source": [
    "rmse = np.sqrt(mean_squared_error(pred,test[\"y\"]))\n",
    "rmse"
   ]
  },
  {
   "cell_type": "code",
   "execution_count": 59,
   "id": "ad67ce68-9320-4c16-b57a-5e8ff8878d39",
   "metadata": {},
   "outputs": [
    {
     "data": {
      "text/plain": [
       "46.31183227640992"
      ]
     },
     "execution_count": 59,
     "metadata": {},
     "output_type": "execute_result"
    }
   ],
   "source": [
    "test[\"y\"].mean()"
   ]
  },
  {
   "cell_type": "code",
   "execution_count": null,
   "id": "2be1722a-1757-4cab-beb5-2fe8e8ebf511",
   "metadata": {},
   "outputs": [],
   "source": []
  }
 ],
 "metadata": {
  "kernelspec": {
   "display_name": "Python 3 (ipykernel)",
   "language": "python",
   "name": "python3"
  },
  "language_info": {
   "codemirror_mode": {
    "name": "ipython",
    "version": 3
   },
   "file_extension": ".py",
   "mimetype": "text/x-python",
   "name": "python",
   "nbconvert_exporter": "python",
   "pygments_lexer": "ipython3",
   "version": "3.12.3"
  }
 },
 "nbformat": 4,
 "nbformat_minor": 5
}
